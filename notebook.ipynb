{
 "cells": [
  {
   "cell_type": "markdown",
   "source": "# Airbnb Precios\nThis is an exploratory analysis of the Airbnb NYC dataset.\n\nThe purpose of this notebook is to explore how different components of an Airbnb listing correlate with the price associate with that listing.\n\nThis is just a preliminary analysis, but hopefully it encourages you to try some of the methods we introduce here, including geospatial analysis and NLP methods. Even for beginners, it's a great chance to see just how far you can get with some very simple Python functions.",
   "metadata": {
    "tags": [],
    "cell_id": "00000-642a00ee-6cd9-4c24-9791-b2e30a5dac0e",
    "deepnote_cell_type": "markdown"
   }
  },
  {
   "cell_type": "code",
   "metadata": {
    "tags": [],
    "cell_id": "00000-04057a7a-479d-4886-a068-48221d4ac706",
    "deepnote_to_be_reexecuted": false,
    "source_hash": "e732c486",
    "execution_millis": 5159,
    "execution_start": 1627051988067,
    "deepnote_cell_type": "code"
   },
   "source": "import pandas as pd\nimport numpy as np\nimport matplotlib as plt\nimport seaborn as sns\nimport altair as alt\nfrom sklearn.preprocessing import StandardScaler\n",
   "execution_count": 1,
   "outputs": []
  },
  {
   "cell_type": "markdown",
   "source": "The Airbnb data is a nicely formatted csv, so we can just read it straight into `pandas`",
   "metadata": {
    "tags": [],
    "cell_id": "00002-71f16153-082e-4f36-b381-5b8fc16e1347",
    "deepnote_cell_type": "markdown"
   }
  },
  {
   "cell_type": "code",
   "metadata": {
    "tags": [],
    "cell_id": "00001-9652c3e8-4289-4417-a623-598026ff57e0",
    "deepnote_to_be_reexecuted": false,
    "source_hash": "4672bdb8",
    "execution_millis": 396,
    "execution_start": 1627051993236,
    "deepnote_cell_type": "code"
   },
   "source": "airbnb = pd.read_csv('AB_NYC_2019.csv')\nairbnb = airbnb.dropna(subset=['name'])\nairbnb.columns\nairbnb",
   "execution_count": 2,
   "outputs": [
    {
     "output_type": "execute_result",
     "execution_count": 2,
     "data": {
      "application/vnd.deepnote.dataframe.v2+json": {
       "row_count": 48879,
       "column_count": 16,
       "columns": [
        {
         "name": "id",
         "dtype": "int64",
         "stats": {
          "unique_count": 48879,
          "nan_count": 0,
          "min": "2539",
          "max": "36487245",
          "histogram": [
           {
            "bin_start": 2539,
            "bin_end": 3651009.6,
            "count": 5080
           },
           {
            "bin_start": 3651009.6,
            "bin_end": 7299480.2,
            "count": 4416
           },
           {
            "bin_start": 7299480.2,
            "bin_end": 10947950.8,
            "count": 4688
           },
           {
            "bin_start": 10947950.8,
            "bin_end": 14596421.4,
            "count": 4327
           },
           {
            "bin_start": 14596421.4,
            "bin_end": 18244892,
            "count": 4031
           },
           {
            "bin_start": 18244892,
            "bin_end": 21893362.6,
            "count": 5462
           },
           {
            "bin_start": 21893362.6,
            "bin_end": 25541833.2,
            "count": 4556
           },
           {
            "bin_start": 25541833.2,
            "bin_end": 29190303.8,
            "count": 4159
           },
           {
            "bin_start": 29190303.8,
            "bin_end": 32838774.400000002,
            "count": 5574
           },
           {
            "bin_start": 32838774.400000002,
            "bin_end": 36487245,
            "count": 6586
           }
          ]
         }
        },
        {
         "name": "name",
         "dtype": "object",
         "stats": {
          "unique_count": 47905,
          "nan_count": 0,
          "categories": [
           {
            "name": "Hillside Hotel",
            "count": 18
           },
           {
            "name": "Home away from home",
            "count": 17
           },
           {
            "name": "47903 others",
            "count": 48844
           }
          ]
         }
        },
        {
         "name": "host_id",
         "dtype": "int64"
        },
        {
         "name": "host_name",
         "dtype": "object"
        },
        {
         "name": "neighbourhood_group",
         "dtype": "object"
        },
        {
         "name": "neighbourhood",
         "dtype": "object"
        },
        {
         "name": "latitude",
         "dtype": "float64"
        },
        {
         "name": "longitude",
         "dtype": "float64"
        },
        {
         "name": "room_type",
         "dtype": "object"
        },
        {
         "name": "price",
         "dtype": "int64"
        },
        {
         "name": "minimum_nights",
         "dtype": "int64"
        },
        {
         "name": "number_of_reviews",
         "dtype": "int64"
        },
        {
         "name": "last_review",
         "dtype": "object"
        },
        {
         "name": "reviews_per_month",
         "dtype": "float64"
        },
        {
         "name": "calculated_host_listings_count",
         "dtype": "int64"
        },
        {
         "name": "availability_365",
         "dtype": "int64"
        },
        {
         "name": "_deepnote_index_column",
         "dtype": "int64"
        }
       ],
       "rows_top": [
        {
         "id": 2539,
         "name": "Clean & quiet apt home by the park",
         "host_id": 2787,
         "host_name": "John",
         "neighbourhood_group": "Brooklyn",
         "neighbourhood": "Kensington",
         "latitude": 40.64749,
         "longitude": -73.97237,
         "room_type": "Private room",
         "price": 149,
         "minimum_nights": 1,
         "number_of_reviews": 9,
         "last_review": "2018-10-19",
         "reviews_per_month": 0.21,
         "calculated_host_listings_count": 6,
         "availability_365": 365,
         "_deepnote_index_column": 0
        },
        {
         "id": 2595,
         "name": "Skylit Midtown Castle",
         "host_id": 2845,
         "host_name": "Jennifer",
         "neighbourhood_group": "Manhattan",
         "neighbourhood": "Midtown",
         "latitude": 40.75362,
         "longitude": -73.98377,
         "room_type": "Entire home/apt",
         "price": 225,
         "minimum_nights": 1,
         "number_of_reviews": 45,
         "last_review": "2019-05-21",
         "reviews_per_month": 0.38,
         "calculated_host_listings_count": 2,
         "availability_365": 355,
         "_deepnote_index_column": 1
        },
        {
         "id": 3647,
         "name": "THE VILLAGE OF HARLEM....NEW YORK !",
         "host_id": 4632,
         "host_name": "Elisabeth",
         "neighbourhood_group": "Manhattan",
         "neighbourhood": "Harlem",
         "latitude": 40.80902,
         "longitude": -73.9419,
         "room_type": "Private room",
         "price": 150,
         "minimum_nights": 3,
         "number_of_reviews": 0,
         "last_review": "nan",
         "reviews_per_month": "nan",
         "calculated_host_listings_count": 1,
         "availability_365": 365,
         "_deepnote_index_column": 2
        },
        {
         "id": 3831,
         "name": "Cozy Entire Floor of Brownstone",
         "host_id": 4869,
         "host_name": "LisaRoxanne",
         "neighbourhood_group": "Brooklyn",
         "neighbourhood": "Clinton Hill",
         "latitude": 40.68514,
         "longitude": -73.95976,
         "room_type": "Entire home/apt",
         "price": 89,
         "minimum_nights": 1,
         "number_of_reviews": 270,
         "last_review": "2019-07-05",
         "reviews_per_month": 4.64,
         "calculated_host_listings_count": 1,
         "availability_365": 194,
         "_deepnote_index_column": 3
        },
        {
         "id": 5022,
         "name": "Entire Apt: Spacious Studio/Loft by central park",
         "host_id": 7192,
         "host_name": "Laura",
         "neighbourhood_group": "Manhattan",
         "neighbourhood": "East Harlem",
         "latitude": 40.79851,
         "longitude": -73.94399,
         "room_type": "Entire home/apt",
         "price": 80,
         "minimum_nights": 10,
         "number_of_reviews": 9,
         "last_review": "2018-11-19",
         "reviews_per_month": 0.1,
         "calculated_host_listings_count": 1,
         "availability_365": 0,
         "_deepnote_index_column": 4
        },
        {
         "id": 5099,
         "name": "Large Cozy 1 BR Apartment In Midtown East",
         "host_id": 7322,
         "host_name": "Chris",
         "neighbourhood_group": "Manhattan",
         "neighbourhood": "Murray Hill",
         "latitude": 40.74767,
         "longitude": -73.975,
         "room_type": "Entire home/apt",
         "price": 200,
         "minimum_nights": 3,
         "number_of_reviews": 74,
         "last_review": "2019-06-22",
         "reviews_per_month": 0.59,
         "calculated_host_listings_count": 1,
         "availability_365": 129,
         "_deepnote_index_column": 5
        },
        {
         "id": 5121,
         "name": "BlissArtsSpace!",
         "host_id": 7356,
         "host_name": "Garon",
         "neighbourhood_group": "Brooklyn",
         "neighbourhood": "Bedford-Stuyvesant",
         "latitude": 40.68688,
         "longitude": -73.95596,
         "room_type": "Private room",
         "price": 60,
         "minimum_nights": 45,
         "number_of_reviews": 49,
         "last_review": "2017-10-05",
         "reviews_per_month": 0.4,
         "calculated_host_listings_count": 1,
         "availability_365": 0,
         "_deepnote_index_column": 6
        },
        {
         "id": 5178,
         "name": "Large Furnished Room Near B'way ",
         "host_id": 8967,
         "host_name": "Shunichi",
         "neighbourhood_group": "Manhattan",
         "neighbourhood": "Hell's Kitchen",
         "latitude": 40.76489,
         "longitude": -73.98493,
         "room_type": "Private room",
         "price": 79,
         "minimum_nights": 2,
         "number_of_reviews": 430,
         "last_review": "2019-06-24",
         "reviews_per_month": 3.47,
         "calculated_host_listings_count": 1,
         "availability_365": 220,
         "_deepnote_index_column": 7
        },
        {
         "id": 5203,
         "name": "Cozy Clean Guest Room - Family Apt",
         "host_id": 7490,
         "host_name": "MaryEllen",
         "neighbourhood_group": "Manhattan",
         "neighbourhood": "Upper West Side",
         "latitude": 40.80178,
         "longitude": -73.96723,
         "room_type": "Private room",
         "price": 79,
         "minimum_nights": 2,
         "number_of_reviews": 118,
         "last_review": "2017-07-21",
         "reviews_per_month": 0.99,
         "calculated_host_listings_count": 1,
         "availability_365": 0,
         "_deepnote_index_column": 8
        },
        {
         "id": 5238,
         "name": "Cute & Cozy Lower East Side 1 bdrm",
         "host_id": 7549,
         "host_name": "Ben",
         "neighbourhood_group": "Manhattan",
         "neighbourhood": "Chinatown",
         "latitude": 40.71344,
         "longitude": -73.99037,
         "room_type": "Entire home/apt",
         "price": 150,
         "minimum_nights": 1,
         "number_of_reviews": 160,
         "last_review": "2019-06-09",
         "reviews_per_month": 1.33,
         "calculated_host_listings_count": 4,
         "availability_365": 188,
         "_deepnote_index_column": 9
        },
        {
         "id": 5295,
         "name": "Beautiful 1br on Upper West Side",
         "host_id": 7702,
         "host_name": "Lena",
         "neighbourhood_group": "Manhattan",
         "neighbourhood": "Upper West Side",
         "latitude": 40.80316,
         "longitude": -73.96545,
         "room_type": "Entire home/apt",
         "price": 135,
         "minimum_nights": 5,
         "number_of_reviews": 53,
         "last_review": "2019-06-22",
         "reviews_per_month": 0.43,
         "calculated_host_listings_count": 1,
         "availability_365": 6,
         "_deepnote_index_column": 10
        },
        {
         "id": 5441,
         "name": "Central Manhattan/near Broadway",
         "host_id": 7989,
         "host_name": "Kate",
         "neighbourhood_group": "Manhattan",
         "neighbourhood": "Hell's Kitchen",
         "latitude": 40.76076,
         "longitude": -73.98867,
         "room_type": "Private room",
         "price": 85,
         "minimum_nights": 2,
         "number_of_reviews": 188,
         "last_review": "2019-06-23",
         "reviews_per_month": 1.5,
         "calculated_host_listings_count": 1,
         "availability_365": 39,
         "_deepnote_index_column": 11
        },
        {
         "id": 5803,
         "name": "Lovely Room 1, Garden, Best Area, Legal rental",
         "host_id": 9744,
         "host_name": "Laurie",
         "neighbourhood_group": "Brooklyn",
         "neighbourhood": "South Slope",
         "latitude": 40.66829,
         "longitude": -73.98779,
         "room_type": "Private room",
         "price": 89,
         "minimum_nights": 4,
         "number_of_reviews": 167,
         "last_review": "2019-06-24",
         "reviews_per_month": 1.34,
         "calculated_host_listings_count": 3,
         "availability_365": 314,
         "_deepnote_index_column": 12
        },
        {
         "id": 6021,
         "name": "Wonderful Guest Bedroom in Manhattan for SINGLES",
         "host_id": 11528,
         "host_name": "Claudio",
         "neighbourhood_group": "Manhattan",
         "neighbourhood": "Upper West Side",
         "latitude": 40.79826,
         "longitude": -73.96113,
         "room_type": "Private room",
         "price": 85,
         "minimum_nights": 2,
         "number_of_reviews": 113,
         "last_review": "2019-07-05",
         "reviews_per_month": 0.91,
         "calculated_host_listings_count": 1,
         "availability_365": 333,
         "_deepnote_index_column": 13
        },
        {
         "id": 6090,
         "name": "West Village Nest - Superhost",
         "host_id": 11975,
         "host_name": "Alina",
         "neighbourhood_group": "Manhattan",
         "neighbourhood": "West Village",
         "latitude": 40.7353,
         "longitude": -74.00525,
         "room_type": "Entire home/apt",
         "price": 120,
         "minimum_nights": 90,
         "number_of_reviews": 27,
         "last_review": "2018-10-31",
         "reviews_per_month": 0.22,
         "calculated_host_listings_count": 1,
         "availability_365": 0,
         "_deepnote_index_column": 14
        },
        {
         "id": 6848,
         "name": "Only 2 stops to Manhattan studio",
         "host_id": 15991,
         "host_name": "Allen & Irina",
         "neighbourhood_group": "Brooklyn",
         "neighbourhood": "Williamsburg",
         "latitude": 40.70837,
         "longitude": -73.95352,
         "room_type": "Entire home/apt",
         "price": 140,
         "minimum_nights": 2,
         "number_of_reviews": 148,
         "last_review": "2019-06-29",
         "reviews_per_month": 1.2,
         "calculated_host_listings_count": 1,
         "availability_365": 46,
         "_deepnote_index_column": 15
        },
        {
         "id": 7097,
         "name": "Perfect for Your Parents + Garden",
         "host_id": 17571,
         "host_name": "Jane",
         "neighbourhood_group": "Brooklyn",
         "neighbourhood": "Fort Greene",
         "latitude": 40.69169,
         "longitude": -73.97185,
         "room_type": "Entire home/apt",
         "price": 215,
         "minimum_nights": 2,
         "number_of_reviews": 198,
         "last_review": "2019-06-28",
         "reviews_per_month": 1.72,
         "calculated_host_listings_count": 1,
         "availability_365": 321,
         "_deepnote_index_column": 16
        },
        {
         "id": 7322,
         "name": "Chelsea Perfect",
         "host_id": 18946,
         "host_name": "Doti",
         "neighbourhood_group": "Manhattan",
         "neighbourhood": "Chelsea",
         "latitude": 40.74192,
         "longitude": -73.99501,
         "room_type": "Private room",
         "price": 140,
         "minimum_nights": 1,
         "number_of_reviews": 260,
         "last_review": "2019-07-01",
         "reviews_per_month": 2.12,
         "calculated_host_listings_count": 1,
         "availability_365": 12,
         "_deepnote_index_column": 17
        },
        {
         "id": 7726,
         "name": "Hip Historic Brownstone Apartment with Backyard",
         "host_id": 20950,
         "host_name": "Adam And Charity",
         "neighbourhood_group": "Brooklyn",
         "neighbourhood": "Crown Heights",
         "latitude": 40.67592,
         "longitude": -73.94694,
         "room_type": "Entire home/apt",
         "price": 99,
         "minimum_nights": 3,
         "number_of_reviews": 53,
         "last_review": "2019-06-22",
         "reviews_per_month": 4.44,
         "calculated_host_listings_count": 1,
         "availability_365": 21,
         "_deepnote_index_column": 18
        },
        {
         "id": 7750,
         "name": "Huge 2 BR Upper East  Cental Park",
         "host_id": 17985,
         "host_name": "Sing",
         "neighbourhood_group": "Manhattan",
         "neighbourhood": "East Harlem",
         "latitude": 40.79685,
         "longitude": -73.94872,
         "room_type": "Entire home/apt",
         "price": 190,
         "minimum_nights": 7,
         "number_of_reviews": 0,
         "last_review": "nan",
         "reviews_per_month": "nan",
         "calculated_host_listings_count": 2,
         "availability_365": 249,
         "_deepnote_index_column": 19
        },
        {
         "id": 7801,
         "name": "Sweet and Spacious Brooklyn Loft",
         "host_id": 21207,
         "host_name": "Chaya",
         "neighbourhood_group": "Brooklyn",
         "neighbourhood": "Williamsburg",
         "latitude": 40.71842,
         "longitude": -73.95718,
         "room_type": "Entire home/apt",
         "price": 299,
         "minimum_nights": 3,
         "number_of_reviews": 9,
         "last_review": "2011-12-28",
         "reviews_per_month": 0.07,
         "calculated_host_listings_count": 1,
         "availability_365": 0,
         "_deepnote_index_column": 20
        },
        {
         "id": 8024,
         "name": "CBG CtyBGd HelpsHaiti rm#1:1-4",
         "host_id": 22486,
         "host_name": "Lisel",
         "neighbourhood_group": "Brooklyn",
         "neighbourhood": "Park Slope",
         "latitude": 40.68069,
         "longitude": -73.97706,
         "room_type": "Private room",
         "price": 130,
         "minimum_nights": 2,
         "number_of_reviews": 130,
         "last_review": "2019-07-01",
         "reviews_per_month": 1.09,
         "calculated_host_listings_count": 6,
         "availability_365": 347,
         "_deepnote_index_column": 21
        },
        {
         "id": 8025,
         "name": "CBG Helps Haiti Room#2.5",
         "host_id": 22486,
         "host_name": "Lisel",
         "neighbourhood_group": "Brooklyn",
         "neighbourhood": "Park Slope",
         "latitude": 40.67989,
         "longitude": -73.97798,
         "room_type": "Private room",
         "price": 80,
         "minimum_nights": 1,
         "number_of_reviews": 39,
         "last_review": "2019-01-01",
         "reviews_per_month": 0.37,
         "calculated_host_listings_count": 6,
         "availability_365": 364,
         "_deepnote_index_column": 22
        },
        {
         "id": 8110,
         "name": "CBG Helps Haiti Rm #2",
         "host_id": 22486,
         "host_name": "Lisel",
         "neighbourhood_group": "Brooklyn",
         "neighbourhood": "Park Slope",
         "latitude": 40.68001,
         "longitude": -73.97865,
         "room_type": "Private room",
         "price": 110,
         "minimum_nights": 2,
         "number_of_reviews": 71,
         "last_review": "2019-07-02",
         "reviews_per_month": 0.61,
         "calculated_host_listings_count": 6,
         "availability_365": 304,
         "_deepnote_index_column": 23
        },
        {
         "id": 8490,
         "name": "MAISON DES SIRENES1,bohemian apartment",
         "host_id": 25183,
         "host_name": "Nathalie",
         "neighbourhood_group": "Brooklyn",
         "neighbourhood": "Bedford-Stuyvesant",
         "latitude": 40.68371,
         "longitude": -73.94028,
         "room_type": "Entire home/apt",
         "price": 120,
         "minimum_nights": 2,
         "number_of_reviews": 88,
         "last_review": "2019-06-19",
         "reviews_per_month": 0.73,
         "calculated_host_listings_count": 2,
         "availability_365": 233,
         "_deepnote_index_column": 24
        },
        {
         "id": 8505,
         "name": "Sunny Bedroom Across Prospect Park",
         "host_id": 25326,
         "host_name": "Gregory",
         "neighbourhood_group": "Brooklyn",
         "neighbourhood": "Windsor Terrace",
         "latitude": 40.65599,
         "longitude": -73.97519,
         "room_type": "Private room",
         "price": 60,
         "minimum_nights": 1,
         "number_of_reviews": 19,
         "last_review": "2019-06-23",
         "reviews_per_month": 1.37,
         "calculated_host_listings_count": 2,
         "availability_365": 85,
         "_deepnote_index_column": 25
        },
        {
         "id": 8700,
         "name": "Magnifique Suite au N de Manhattan - vue Cloitres",
         "host_id": 26394,
         "host_name": "Claude & Sophie",
         "neighbourhood_group": "Manhattan",
         "neighbourhood": "Inwood",
         "latitude": 40.86754,
         "longitude": -73.92639,
         "room_type": "Private room",
         "price": 80,
         "minimum_nights": 4,
         "number_of_reviews": 0,
         "last_review": "nan",
         "reviews_per_month": "nan",
         "calculated_host_listings_count": 1,
         "availability_365": 0,
         "_deepnote_index_column": 26
        },
        {
         "id": 9357,
         "name": "Midtown Pied-a-terre",
         "host_id": 30193,
         "host_name": "Tommi",
         "neighbourhood_group": "Manhattan",
         "neighbourhood": "Hell's Kitchen",
         "latitude": 40.76715,
         "longitude": -73.98533,
         "room_type": "Entire home/apt",
         "price": 150,
         "minimum_nights": 10,
         "number_of_reviews": 58,
         "last_review": "2017-08-13",
         "reviews_per_month": 0.49,
         "calculated_host_listings_count": 1,
         "availability_365": 75,
         "_deepnote_index_column": 27
        },
        {
         "id": 9518,
         "name": "SPACIOUS, LOVELY FURNISHED MANHATTAN BEDROOM",
         "host_id": 31374,
         "host_name": "Shon",
         "neighbourhood_group": "Manhattan",
         "neighbourhood": "Inwood",
         "latitude": 40.86482,
         "longitude": -73.92106,
         "room_type": "Private room",
         "price": 44,
         "minimum_nights": 3,
         "number_of_reviews": 108,
         "last_review": "2019-06-15",
         "reviews_per_month": 1.11,
         "calculated_host_listings_count": 3,
         "availability_365": 311,
         "_deepnote_index_column": 28
        },
        {
         "id": 9657,
         "name": "Modern 1 BR / NYC / EAST VILLAGE",
         "host_id": 21904,
         "host_name": "Dana",
         "neighbourhood_group": "Manhattan",
         "neighbourhood": "East Village",
         "latitude": 40.7292,
         "longitude": -73.98542,
         "room_type": "Entire home/apt",
         "price": 180,
         "minimum_nights": 14,
         "number_of_reviews": 29,
         "last_review": "2019-04-19",
         "reviews_per_month": 0.24,
         "calculated_host_listings_count": 1,
         "availability_365": 67,
         "_deepnote_index_column": 29
        },
        {
         "id": 9668,
         "name": "front room/double bed",
         "host_id": 32294,
         "host_name": "Ssameer Or Trip",
         "neighbourhood_group": "Manhattan",
         "neighbourhood": "Harlem",
         "latitude": 40.82245,
         "longitude": -73.95104,
         "room_type": "Private room",
         "price": 50,
         "minimum_nights": 3,
         "number_of_reviews": 242,
         "last_review": "2019-06-01",
         "reviews_per_month": 2.04,
         "calculated_host_listings_count": 3,
         "availability_365": 355,
         "_deepnote_index_column": 30
        }
       ],
       "rows_bottom": [
        {
         "id": 36471896,
         "name": "Private Bedroom & PRIVATE BATHROOM in Manhattan",
         "host_id": 23548340,
         "host_name": "Sarah",
         "neighbourhood_group": "Manhattan",
         "neighbourhood": "Upper East Side",
         "latitude": 40.77192,
         "longitude": -73.95369,
         "room_type": "Private room",
         "price": 95,
         "minimum_nights": 1,
         "number_of_reviews": 0,
         "last_review": "nan",
         "reviews_per_month": "nan",
         "calculated_host_listings_count": 1,
         "availability_365": 2,
         "_deepnote_index_column": 48864
        },
        {
         "id": 36472171,
         "name": "1 bedroom in sunlit apartment",
         "host_id": 99144947,
         "host_name": "Brenda",
         "neighbourhood_group": "Manhattan",
         "neighbourhood": "Inwood",
         "latitude": 40.86845,
         "longitude": -73.92449,
         "room_type": "Private room",
         "price": 80,
         "minimum_nights": 1,
         "number_of_reviews": 0,
         "last_review": "nan",
         "reviews_per_month": "nan",
         "calculated_host_listings_count": 1,
         "availability_365": 79,
         "_deepnote_index_column": 48865
        },
        {
         "id": 36472710,
         "name": "CozyHideAway Suite",
         "host_id": 274225617,
         "host_name": "Alberth",
         "neighbourhood_group": "Queens",
         "neighbourhood": "Briarwood",
         "latitude": 40.70786,
         "longitude": -73.81448,
         "room_type": "Entire home/apt",
         "price": 58,
         "minimum_nights": 1,
         "number_of_reviews": 0,
         "last_review": "nan",
         "reviews_per_month": "nan",
         "calculated_host_listings_count": 1,
         "availability_365": 159,
         "_deepnote_index_column": 48866
        },
        {
         "id": 36473044,
         "name": "The place you were dreaming for.(only for guys)",
         "host_id": 261338177,
         "host_name": "Diana",
         "neighbourhood_group": "Brooklyn",
         "neighbourhood": "Gravesend",
         "latitude": 40.5908,
         "longitude": -73.97116,
         "room_type": "Shared room",
         "price": 25,
         "minimum_nights": 1,
         "number_of_reviews": 0,
         "last_review": "nan",
         "reviews_per_month": "nan",
         "calculated_host_listings_count": 6,
         "availability_365": 338,
         "_deepnote_index_column": 48867
        },
        {
         "id": 36473253,
         "name": "Heaven for you(only for guy)",
         "host_id": 261338177,
         "host_name": "Diana",
         "neighbourhood_group": "Brooklyn",
         "neighbourhood": "Gravesend",
         "latitude": 40.59118,
         "longitude": -73.97119,
         "room_type": "Shared room",
         "price": 25,
         "minimum_nights": 7,
         "number_of_reviews": 0,
         "last_review": "nan",
         "reviews_per_month": "nan",
         "calculated_host_listings_count": 6,
         "availability_365": 365,
         "_deepnote_index_column": 48868
        },
        {
         "id": 36474023,
         "name": "Cozy, Sunny Brooklyn Escape",
         "host_id": 1550580,
         "host_name": "Julia",
         "neighbourhood_group": "Brooklyn",
         "neighbourhood": "Bedford-Stuyvesant",
         "latitude": 40.68759,
         "longitude": -73.95705,
         "room_type": "Private room",
         "price": 45,
         "minimum_nights": 4,
         "number_of_reviews": 0,
         "last_review": "nan",
         "reviews_per_month": "nan",
         "calculated_host_listings_count": 1,
         "availability_365": 7,
         "_deepnote_index_column": 48869
        },
        {
         "id": 36474911,
         "name": "Cozy, clean Williamsburg 1- bedroom apartment",
         "host_id": 1273444,
         "host_name": "Tanja",
         "neighbourhood_group": "Brooklyn",
         "neighbourhood": "Williamsburg",
         "latitude": 40.71197,
         "longitude": -73.94946,
         "room_type": "Entire home/apt",
         "price": 99,
         "minimum_nights": 4,
         "number_of_reviews": 0,
         "last_review": "nan",
         "reviews_per_month": "nan",
         "calculated_host_listings_count": 1,
         "availability_365": 22,
         "_deepnote_index_column": 48870
        },
        {
         "id": 36475746,
         "name": "A LARGE ROOM - 1 MONTH MINIMUM - WASHER&DRYER",
         "host_id": 144008701,
         "host_name": "Ozzy Ciao",
         "neighbourhood_group": "Manhattan",
         "neighbourhood": "Harlem",
         "latitude": 40.82233,
         "longitude": -73.94687,
         "room_type": "Private room",
         "price": 35,
         "minimum_nights": 29,
         "number_of_reviews": 0,
         "last_review": "nan",
         "reviews_per_month": "nan",
         "calculated_host_listings_count": 2,
         "availability_365": 31,
         "_deepnote_index_column": 48871
        },
        {
         "id": 36476675,
         "name": "Nycity-MyHome",
         "host_id": 8636072,
         "host_name": "Ben",
         "neighbourhood_group": "Manhattan",
         "neighbourhood": "Hell's Kitchen",
         "latitude": 40.76236,
         "longitude": -73.99255,
         "room_type": "Entire home/apt",
         "price": 260,
         "minimum_nights": 3,
         "number_of_reviews": 0,
         "last_review": "nan",
         "reviews_per_month": "nan",
         "calculated_host_listings_count": 1,
         "availability_365": 9,
         "_deepnote_index_column": 48872
        },
        {
         "id": 36477307,
         "name": "Brooklyn paradise",
         "host_id": 241945355,
         "host_name": "Clement & Rose",
         "neighbourhood_group": "Brooklyn",
         "neighbourhood": "Flatlands",
         "latitude": 40.63116,
         "longitude": -73.92616,
         "room_type": "Entire home/apt",
         "price": 170,
         "minimum_nights": 1,
         "number_of_reviews": 0,
         "last_review": "nan",
         "reviews_per_month": "nan",
         "calculated_host_listings_count": 2,
         "availability_365": 363,
         "_deepnote_index_column": 48873
        },
        {
         "id": 36477588,
         "name": "Short Term Rental in East Harlem",
         "host_id": 214535893,
         "host_name": "Jeffrey",
         "neighbourhood_group": "Manhattan",
         "neighbourhood": "East Harlem",
         "latitude": 40.7976,
         "longitude": -73.93947,
         "room_type": "Private room",
         "price": 50,
         "minimum_nights": 7,
         "number_of_reviews": 0,
         "last_review": "nan",
         "reviews_per_month": "nan",
         "calculated_host_listings_count": 1,
         "availability_365": 22,
         "_deepnote_index_column": 48874
        },
        {
         "id": 36478343,
         "name": "Welcome all as family",
         "host_id": 274273284,
         "host_name": "Anastasia",
         "neighbourhood_group": "Manhattan",
         "neighbourhood": "East Harlem",
         "latitude": 40.78749,
         "longitude": -73.94749,
         "room_type": "Private room",
         "price": 140,
         "minimum_nights": 1,
         "number_of_reviews": 0,
         "last_review": "nan",
         "reviews_per_month": "nan",
         "calculated_host_listings_count": 1,
         "availability_365": 180,
         "_deepnote_index_column": 48875
        },
        {
         "id": 36478357,
         "name": "Cozy, Air-Conditioned Private Bedroom in Harlem",
         "host_id": 177932088,
         "host_name": "Joseph",
         "neighbourhood_group": "Manhattan",
         "neighbourhood": "Harlem",
         "latitude": 40.80953,
         "longitude": -73.9541,
         "room_type": "Private room",
         "price": 60,
         "minimum_nights": 1,
         "number_of_reviews": 0,
         "last_review": "nan",
         "reviews_per_month": "nan",
         "calculated_host_listings_count": 1,
         "availability_365": 26,
         "_deepnote_index_column": 48876
        },
        {
         "id": 36479230,
         "name": "Studio sized room with beautiful light",
         "host_id": 65767720,
         "host_name": "Melanie",
         "neighbourhood_group": "Brooklyn",
         "neighbourhood": "Bushwick",
         "latitude": 40.70418,
         "longitude": -73.91471,
         "room_type": "Private room",
         "price": 42,
         "minimum_nights": 7,
         "number_of_reviews": 0,
         "last_review": "nan",
         "reviews_per_month": "nan",
         "calculated_host_listings_count": 1,
         "availability_365": 16,
         "_deepnote_index_column": 48877
        },
        {
         "id": 36479723,
         "name": "Room for rest",
         "host_id": 41326856,
         "host_name": "Jeerathinan",
         "neighbourhood_group": "Queens",
         "neighbourhood": "Elmhurst",
         "latitude": 40.74477,
         "longitude": -73.87727,
         "room_type": "Private room",
         "price": 45,
         "minimum_nights": 1,
         "number_of_reviews": 0,
         "last_review": "nan",
         "reviews_per_month": "nan",
         "calculated_host_listings_count": 5,
         "availability_365": 172,
         "_deepnote_index_column": 48878
        },
        {
         "id": 36480292,
         "name": "Gorgeous 1.5 Bdr with a private yard- Williamsburg",
         "host_id": 540335,
         "host_name": "Lee",
         "neighbourhood_group": "Brooklyn",
         "neighbourhood": "Williamsburg",
         "latitude": 40.71728,
         "longitude": -73.94394,
         "room_type": "Entire home/apt",
         "price": 120,
         "minimum_nights": 20,
         "number_of_reviews": 0,
         "last_review": "nan",
         "reviews_per_month": "nan",
         "calculated_host_listings_count": 1,
         "availability_365": 22,
         "_deepnote_index_column": 48879
        },
        {
         "id": 36481315,
         "name": "The Raccoon Artist Studio in Williamsburg New York",
         "host_id": 208514239,
         "host_name": "Melki",
         "neighbourhood_group": "Brooklyn",
         "neighbourhood": "Williamsburg",
         "latitude": 40.71232,
         "longitude": -73.9422,
         "room_type": "Entire home/apt",
         "price": 120,
         "minimum_nights": 1,
         "number_of_reviews": 0,
         "last_review": "nan",
         "reviews_per_month": "nan",
         "calculated_host_listings_count": 3,
         "availability_365": 365,
         "_deepnote_index_column": 48880
        },
        {
         "id": 36481615,
         "name": "Peaceful space in Greenpoint, BK",
         "host_id": 274298453,
         "host_name": "Adrien",
         "neighbourhood_group": "Brooklyn",
         "neighbourhood": "Greenpoint",
         "latitude": 40.72585,
         "longitude": -73.94001,
         "room_type": "Private room",
         "price": 54,
         "minimum_nights": 6,
         "number_of_reviews": 0,
         "last_review": "nan",
         "reviews_per_month": "nan",
         "calculated_host_listings_count": 1,
         "availability_365": 15,
         "_deepnote_index_column": 48881
        },
        {
         "id": 36482231,
         "name": "Bushwick _ Myrtle-Wyckoff",
         "host_id": 66058896,
         "host_name": "Luisa",
         "neighbourhood_group": "Brooklyn",
         "neighbourhood": "Bushwick",
         "latitude": 40.69652,
         "longitude": -73.91079,
         "room_type": "Private room",
         "price": 40,
         "minimum_nights": 20,
         "number_of_reviews": 0,
         "last_review": "nan",
         "reviews_per_month": "nan",
         "calculated_host_listings_count": 1,
         "availability_365": 31,
         "_deepnote_index_column": 48882
        },
        {
         "id": 36482416,
         "name": "Sunny Bedroom NYC! Walking to Central Park!!",
         "host_id": 131529729,
         "host_name": "Kendall",
         "neighbourhood_group": "Manhattan",
         "neighbourhood": "East Harlem",
         "latitude": 40.79755,
         "longitude": -73.93614,
         "room_type": "Private room",
         "price": 75,
         "minimum_nights": 2,
         "number_of_reviews": 0,
         "last_review": "nan",
         "reviews_per_month": "nan",
         "calculated_host_listings_count": 2,
         "availability_365": 364,
         "_deepnote_index_column": 48883
        },
        {
         "id": 36482783,
         "name": "Brooklyn Oasis in the heart of Williamsburg",
         "host_id": 274307600,
         "host_name": "Jonathan",
         "neighbourhood_group": "Brooklyn",
         "neighbourhood": "Williamsburg",
         "latitude": 40.7179,
         "longitude": -73.96238,
         "room_type": "Private room",
         "price": 190,
         "minimum_nights": 7,
         "number_of_reviews": 0,
         "last_review": "nan",
         "reviews_per_month": "nan",
         "calculated_host_listings_count": 1,
         "availability_365": 341,
         "_deepnote_index_column": 48884
        },
        {
         "id": 36482809,
         "name": "Stunning Bedroom NYC! Walking to Central Park!!",
         "host_id": 131529729,
         "host_name": "Kendall",
         "neighbourhood_group": "Manhattan",
         "neighbourhood": "East Harlem",
         "latitude": 40.79633,
         "longitude": -73.93605,
         "room_type": "Private room",
         "price": 75,
         "minimum_nights": 2,
         "number_of_reviews": 0,
         "last_review": "nan",
         "reviews_per_month": "nan",
         "calculated_host_listings_count": 2,
         "availability_365": 353,
         "_deepnote_index_column": 48885
        },
        {
         "id": 36483010,
         "name": "Comfy 1 Bedroom in Midtown East",
         "host_id": 274311461,
         "host_name": "Scott",
         "neighbourhood_group": "Manhattan",
         "neighbourhood": "Midtown",
         "latitude": 40.75561,
         "longitude": -73.96723,
         "room_type": "Entire home/apt",
         "price": 200,
         "minimum_nights": 6,
         "number_of_reviews": 0,
         "last_review": "nan",
         "reviews_per_month": "nan",
         "calculated_host_listings_count": 1,
         "availability_365": 176,
         "_deepnote_index_column": 48886
        },
        {
         "id": 36483152,
         "name": "Garden Jewel Apartment in Williamsburg New York",
         "host_id": 208514239,
         "host_name": "Melki",
         "neighbourhood_group": "Brooklyn",
         "neighbourhood": "Williamsburg",
         "latitude": 40.71232,
         "longitude": -73.9422,
         "room_type": "Entire home/apt",
         "price": 170,
         "minimum_nights": 1,
         "number_of_reviews": 0,
         "last_review": "nan",
         "reviews_per_month": "nan",
         "calculated_host_listings_count": 3,
         "availability_365": 365,
         "_deepnote_index_column": 48887
        },
        {
         "id": 36484087,
         "name": "Spacious Room w/ Private Rooftop, Central location",
         "host_id": 274321313,
         "host_name": "Kat",
         "neighbourhood_group": "Manhattan",
         "neighbourhood": "Hell's Kitchen",
         "latitude": 40.76392,
         "longitude": -73.99183,
         "room_type": "Private room",
         "price": 125,
         "minimum_nights": 4,
         "number_of_reviews": 0,
         "last_review": "nan",
         "reviews_per_month": "nan",
         "calculated_host_listings_count": 1,
         "availability_365": 31,
         "_deepnote_index_column": 48888
        },
        {
         "id": 36484363,
         "name": "QUIT PRIVATE HOUSE",
         "host_id": 107716952,
         "host_name": "Michael",
         "neighbourhood_group": "Queens",
         "neighbourhood": "Jamaica",
         "latitude": 40.69137,
         "longitude": -73.80844,
         "room_type": "Private room",
         "price": 65,
         "minimum_nights": 1,
         "number_of_reviews": 0,
         "last_review": "nan",
         "reviews_per_month": "nan",
         "calculated_host_listings_count": 2,
         "availability_365": 163,
         "_deepnote_index_column": 48889
        },
        {
         "id": 36484665,
         "name": "Charming one bedroom - newly renovated rowhouse",
         "host_id": 8232441,
         "host_name": "Sabrina",
         "neighbourhood_group": "Brooklyn",
         "neighbourhood": "Bedford-Stuyvesant",
         "latitude": 40.67853,
         "longitude": -73.94995,
         "room_type": "Private room",
         "price": 70,
         "minimum_nights": 2,
         "number_of_reviews": 0,
         "last_review": "nan",
         "reviews_per_month": "nan",
         "calculated_host_listings_count": 2,
         "availability_365": 9,
         "_deepnote_index_column": 48890
        },
        {
         "id": 36485057,
         "name": "Affordable room in Bushwick/East Williamsburg",
         "host_id": 6570630,
         "host_name": "Marisol",
         "neighbourhood_group": "Brooklyn",
         "neighbourhood": "Bushwick",
         "latitude": 40.70184,
         "longitude": -73.93317,
         "room_type": "Private room",
         "price": 40,
         "minimum_nights": 4,
         "number_of_reviews": 0,
         "last_review": "nan",
         "reviews_per_month": "nan",
         "calculated_host_listings_count": 2,
         "availability_365": 36,
         "_deepnote_index_column": 48891
        },
        {
         "id": 36485431,
         "name": "Sunny Studio at Historical Neighborhood",
         "host_id": 23492952,
         "host_name": "Ilgar & Aysel",
         "neighbourhood_group": "Manhattan",
         "neighbourhood": "Harlem",
         "latitude": 40.81475,
         "longitude": -73.94867,
         "room_type": "Entire home/apt",
         "price": 115,
         "minimum_nights": 10,
         "number_of_reviews": 0,
         "last_review": "nan",
         "reviews_per_month": "nan",
         "calculated_host_listings_count": 1,
         "availability_365": 27,
         "_deepnote_index_column": 48892
        },
        {
         "id": 36485609,
         "name": "43rd St. Time Square-cozy single bed",
         "host_id": 30985759,
         "host_name": "Taz",
         "neighbourhood_group": "Manhattan",
         "neighbourhood": "Hell's Kitchen",
         "latitude": 40.75751,
         "longitude": -73.99112,
         "room_type": "Shared room",
         "price": 55,
         "minimum_nights": 1,
         "number_of_reviews": 0,
         "last_review": "nan",
         "reviews_per_month": "nan",
         "calculated_host_listings_count": 6,
         "availability_365": 2,
         "_deepnote_index_column": 48893
        },
        {
         "id": 36487245,
         "name": "Trendy duplex in the very heart of Hell's Kitchen",
         "host_id": 68119814,
         "host_name": "Christophe",
         "neighbourhood_group": "Manhattan",
         "neighbourhood": "Hell's Kitchen",
         "latitude": 40.76404,
         "longitude": -73.98933,
         "room_type": "Private room",
         "price": 90,
         "minimum_nights": 7,
         "number_of_reviews": 0,
         "last_review": "nan",
         "reviews_per_month": "nan",
         "calculated_host_listings_count": 1,
         "availability_365": 23,
         "_deepnote_index_column": 48894
        }
       ]
      },
      "text/plain": "             id                                               name   host_id  \\\n0          2539                 Clean & quiet apt home by the park      2787   \n1          2595                              Skylit Midtown Castle      2845   \n2          3647                THE VILLAGE OF HARLEM....NEW YORK !      4632   \n3          3831                    Cozy Entire Floor of Brownstone      4869   \n4          5022   Entire Apt: Spacious Studio/Loft by central park      7192   \n...         ...                                                ...       ...   \n48890  36484665    Charming one bedroom - newly renovated rowhouse   8232441   \n48891  36485057      Affordable room in Bushwick/East Williamsburg   6570630   \n48892  36485431            Sunny Studio at Historical Neighborhood  23492952   \n48893  36485609               43rd St. Time Square-cozy single bed  30985759   \n48894  36487245  Trendy duplex in the very heart of Hell's Kitchen  68119814   \n\n           host_name neighbourhood_group       neighbourhood  latitude  \\\n0               John            Brooklyn          Kensington  40.64749   \n1           Jennifer           Manhattan             Midtown  40.75362   \n2          Elisabeth           Manhattan              Harlem  40.80902   \n3        LisaRoxanne            Brooklyn        Clinton Hill  40.68514   \n4              Laura           Manhattan         East Harlem  40.79851   \n...              ...                 ...                 ...       ...   \n48890        Sabrina            Brooklyn  Bedford-Stuyvesant  40.67853   \n48891        Marisol            Brooklyn            Bushwick  40.70184   \n48892  Ilgar & Aysel           Manhattan              Harlem  40.81475   \n48893            Taz           Manhattan      Hell's Kitchen  40.75751   \n48894     Christophe           Manhattan      Hell's Kitchen  40.76404   \n\n       longitude        room_type  price  minimum_nights  number_of_reviews  \\\n0      -73.97237     Private room    149               1                  9   \n1      -73.98377  Entire home/apt    225               1                 45   \n2      -73.94190     Private room    150               3                  0   \n3      -73.95976  Entire home/apt     89               1                270   \n4      -73.94399  Entire home/apt     80              10                  9   \n...          ...              ...    ...             ...                ...   \n48890  -73.94995     Private room     70               2                  0   \n48891  -73.93317     Private room     40               4                  0   \n48892  -73.94867  Entire home/apt    115              10                  0   \n48893  -73.99112      Shared room     55               1                  0   \n48894  -73.98933     Private room     90               7                  0   \n\n      last_review  reviews_per_month  calculated_host_listings_count  \\\n0      2018-10-19               0.21                               6   \n1      2019-05-21               0.38                               2   \n2             NaN                NaN                               1   \n3      2019-07-05               4.64                               1   \n4      2018-11-19               0.10                               1   \n...           ...                ...                             ...   \n48890         NaN                NaN                               2   \n48891         NaN                NaN                               2   \n48892         NaN                NaN                               1   \n48893         NaN                NaN                               6   \n48894         NaN                NaN                               1   \n\n       availability_365  \n0                   365  \n1                   355  \n2                   365  \n3                   194  \n4                     0  \n...                 ...  \n48890                 9  \n48891                36  \n48892                27  \n48893                 2  \n48894                23  \n\n[48879 rows x 16 columns]",
      "text/html": "<div>\n<style scoped>\n    .dataframe tbody tr th:only-of-type {\n        vertical-align: middle;\n    }\n\n    .dataframe tbody tr th {\n        vertical-align: top;\n    }\n\n    .dataframe thead th {\n        text-align: right;\n    }\n</style>\n<table border=\"1\" class=\"dataframe\">\n  <thead>\n    <tr style=\"text-align: right;\">\n      <th></th>\n      <th>id</th>\n      <th>name</th>\n      <th>host_id</th>\n      <th>host_name</th>\n      <th>neighbourhood_group</th>\n      <th>neighbourhood</th>\n      <th>latitude</th>\n      <th>longitude</th>\n      <th>room_type</th>\n      <th>price</th>\n      <th>minimum_nights</th>\n      <th>number_of_reviews</th>\n      <th>last_review</th>\n      <th>reviews_per_month</th>\n      <th>calculated_host_listings_count</th>\n      <th>availability_365</th>\n    </tr>\n  </thead>\n  <tbody>\n    <tr>\n      <th>0</th>\n      <td>2539</td>\n      <td>Clean &amp; quiet apt home by the park</td>\n      <td>2787</td>\n      <td>John</td>\n      <td>Brooklyn</td>\n      <td>Kensington</td>\n      <td>40.64749</td>\n      <td>-73.97237</td>\n      <td>Private room</td>\n      <td>149</td>\n      <td>1</td>\n      <td>9</td>\n      <td>2018-10-19</td>\n      <td>0.21</td>\n      <td>6</td>\n      <td>365</td>\n    </tr>\n    <tr>\n      <th>1</th>\n      <td>2595</td>\n      <td>Skylit Midtown Castle</td>\n      <td>2845</td>\n      <td>Jennifer</td>\n      <td>Manhattan</td>\n      <td>Midtown</td>\n      <td>40.75362</td>\n      <td>-73.98377</td>\n      <td>Entire home/apt</td>\n      <td>225</td>\n      <td>1</td>\n      <td>45</td>\n      <td>2019-05-21</td>\n      <td>0.38</td>\n      <td>2</td>\n      <td>355</td>\n    </tr>\n    <tr>\n      <th>2</th>\n      <td>3647</td>\n      <td>THE VILLAGE OF HARLEM....NEW YORK !</td>\n      <td>4632</td>\n      <td>Elisabeth</td>\n      <td>Manhattan</td>\n      <td>Harlem</td>\n      <td>40.80902</td>\n      <td>-73.94190</td>\n      <td>Private room</td>\n      <td>150</td>\n      <td>3</td>\n      <td>0</td>\n      <td>NaN</td>\n      <td>NaN</td>\n      <td>1</td>\n      <td>365</td>\n    </tr>\n    <tr>\n      <th>3</th>\n      <td>3831</td>\n      <td>Cozy Entire Floor of Brownstone</td>\n      <td>4869</td>\n      <td>LisaRoxanne</td>\n      <td>Brooklyn</td>\n      <td>Clinton Hill</td>\n      <td>40.68514</td>\n      <td>-73.95976</td>\n      <td>Entire home/apt</td>\n      <td>89</td>\n      <td>1</td>\n      <td>270</td>\n      <td>2019-07-05</td>\n      <td>4.64</td>\n      <td>1</td>\n      <td>194</td>\n    </tr>\n    <tr>\n      <th>4</th>\n      <td>5022</td>\n      <td>Entire Apt: Spacious Studio/Loft by central park</td>\n      <td>7192</td>\n      <td>Laura</td>\n      <td>Manhattan</td>\n      <td>East Harlem</td>\n      <td>40.79851</td>\n      <td>-73.94399</td>\n      <td>Entire home/apt</td>\n      <td>80</td>\n      <td>10</td>\n      <td>9</td>\n      <td>2018-11-19</td>\n      <td>0.10</td>\n      <td>1</td>\n      <td>0</td>\n    </tr>\n    <tr>\n      <th>...</th>\n      <td>...</td>\n      <td>...</td>\n      <td>...</td>\n      <td>...</td>\n      <td>...</td>\n      <td>...</td>\n      <td>...</td>\n      <td>...</td>\n      <td>...</td>\n      <td>...</td>\n      <td>...</td>\n      <td>...</td>\n      <td>...</td>\n      <td>...</td>\n      <td>...</td>\n      <td>...</td>\n    </tr>\n    <tr>\n      <th>48890</th>\n      <td>36484665</td>\n      <td>Charming one bedroom - newly renovated rowhouse</td>\n      <td>8232441</td>\n      <td>Sabrina</td>\n      <td>Brooklyn</td>\n      <td>Bedford-Stuyvesant</td>\n      <td>40.67853</td>\n      <td>-73.94995</td>\n      <td>Private room</td>\n      <td>70</td>\n      <td>2</td>\n      <td>0</td>\n      <td>NaN</td>\n      <td>NaN</td>\n      <td>2</td>\n      <td>9</td>\n    </tr>\n    <tr>\n      <th>48891</th>\n      <td>36485057</td>\n      <td>Affordable room in Bushwick/East Williamsburg</td>\n      <td>6570630</td>\n      <td>Marisol</td>\n      <td>Brooklyn</td>\n      <td>Bushwick</td>\n      <td>40.70184</td>\n      <td>-73.93317</td>\n      <td>Private room</td>\n      <td>40</td>\n      <td>4</td>\n      <td>0</td>\n      <td>NaN</td>\n      <td>NaN</td>\n      <td>2</td>\n      <td>36</td>\n    </tr>\n    <tr>\n      <th>48892</th>\n      <td>36485431</td>\n      <td>Sunny Studio at Historical Neighborhood</td>\n      <td>23492952</td>\n      <td>Ilgar &amp; Aysel</td>\n      <td>Manhattan</td>\n      <td>Harlem</td>\n      <td>40.81475</td>\n      <td>-73.94867</td>\n      <td>Entire home/apt</td>\n      <td>115</td>\n      <td>10</td>\n      <td>0</td>\n      <td>NaN</td>\n      <td>NaN</td>\n      <td>1</td>\n      <td>27</td>\n    </tr>\n    <tr>\n      <th>48893</th>\n      <td>36485609</td>\n      <td>43rd St. Time Square-cozy single bed</td>\n      <td>30985759</td>\n      <td>Taz</td>\n      <td>Manhattan</td>\n      <td>Hell's Kitchen</td>\n      <td>40.75751</td>\n      <td>-73.99112</td>\n      <td>Shared room</td>\n      <td>55</td>\n      <td>1</td>\n      <td>0</td>\n      <td>NaN</td>\n      <td>NaN</td>\n      <td>6</td>\n      <td>2</td>\n    </tr>\n    <tr>\n      <th>48894</th>\n      <td>36487245</td>\n      <td>Trendy duplex in the very heart of Hell's Kitchen</td>\n      <td>68119814</td>\n      <td>Christophe</td>\n      <td>Manhattan</td>\n      <td>Hell's Kitchen</td>\n      <td>40.76404</td>\n      <td>-73.98933</td>\n      <td>Private room</td>\n      <td>90</td>\n      <td>7</td>\n      <td>0</td>\n      <td>NaN</td>\n      <td>NaN</td>\n      <td>1</td>\n      <td>23</td>\n    </tr>\n  </tbody>\n</table>\n<p>48879 rows × 16 columns</p>\n</div>"
     },
     "metadata": {}
    }
   ]
  },
  {
   "cell_type": "markdown",
   "source": "Let's plot this data",
   "metadata": {
    "tags": [],
    "cell_id": "00004-e675f9b2-92d9-4e18-a270-864bf7ea9227",
    "deepnote_cell_type": "markdown"
   }
  },
  {
   "cell_type": "code",
   "metadata": {
    "tags": [],
    "cell_id": "00005-e2261156-69bc-4a20-b026-ed4e2f11d118",
    "deepnote_to_be_reexecuted": false,
    "source_hash": "9d064224",
    "execution_millis": 441,
    "execution_start": 1627051993643,
    "deepnote_cell_type": "code"
   },
   "source": "sns.set(rc={'figure.figsize':(11.7,8.27)})\n# Vamos a ver precios por grupo de vecindarios\nsns.boxplot(data = airbnb, y='price', x = 'neighbourhood_group')",
   "execution_count": 3,
   "outputs": [
    {
     "output_type": "execute_result",
     "execution_count": 3,
     "data": {
      "text/plain": "<AxesSubplot:xlabel='neighbourhood_group', ylabel='price'>"
     },
     "metadata": {}
    },
    {
     "data": {
      "text/plain": "<Figure size 842.4x595.44 with 1 Axes>",
      "image/png": "[encoded data removed]"
     },
     "metadata": {
      "image/png": {
       "width": 728,
       "height": 500
      }
     },
     "output_type": "display_data"
    }
   ]
  },
  {
   "cell_type": "code",
   "metadata": {
    "tags": [],
    "cell_id": "00006-d44bb5dd-6a36-4620-849e-92d03ac08694",
    "deepnote_to_be_reexecuted": false,
    "source_hash": "479d0c22",
    "execution_start": 1627051994087,
    "execution_millis": 75,
    "deepnote_cell_type": "code"
   },
   "source": "#Vemos muchos outlaiers, vamos a ver un poco mas de cerca los precios por barrios\nairbnb.groupby('neighbourhood_group')['price'].describe()[['count','mean', 'std', '50%', 'max']]\n# Esto tambien vemos que los datos estan sesgados a la derecha porque la mediana es menos que la media",
   "execution_count": 4,
   "outputs": [
    {
     "output_type": "execute_result",
     "execution_count": 4,
     "data": {
      "application/vnd.deepnote.dataframe.v2+json": {
       "row_count": 5,
       "column_count": 5,
       "columns": [
        {
         "name": "count",
         "dtype": "float64",
         "stats": {
          "unique_count": 5,
          "nan_count": 0,
          "min": "373.0",
          "max": "21652.0",
          "histogram": [
           {
            "bin_start": 373,
            "bin_end": 2500.9,
            "count": 2
           },
           {
            "bin_start": 2500.9,
            "bin_end": 4628.8,
            "count": 0
           },
           {
            "bin_start": 4628.8,
            "bin_end": 6756.700000000001,
            "count": 1
           },
           {
            "bin_start": 6756.700000000001,
            "bin_end": 8884.6,
            "count": 0
           },
           {
            "bin_start": 8884.6,
            "bin_end": 11012.5,
            "count": 0
           },
           {
            "bin_start": 11012.5,
            "bin_end": 13140.400000000001,
            "count": 0
           },
           {
            "bin_start": 13140.400000000001,
            "bin_end": 15268.300000000001,
            "count": 0
           },
           {
            "bin_start": 15268.300000000001,
            "bin_end": 17396.2,
            "count": 0
           },
           {
            "bin_start": 17396.2,
            "bin_end": 19524.100000000002,
            "count": 0
           },
           {
            "bin_start": 19524.100000000002,
            "bin_end": 21652,
            "count": 2
           }
          ]
         }
        },
        {
         "name": "mean",
         "dtype": "float64",
         "stats": {
          "unique_count": 5,
          "nan_count": 0,
          "min": "87.45779816513762",
          "max": "196.87742471827082",
          "histogram": [
           {
            "bin_start": 87.45779816513762,
            "bin_end": 98.39976082045094,
            "count": 1
           },
           {
            "bin_start": 98.39976082045094,
            "bin_end": 109.34172347576425,
            "count": 1
           },
           {
            "bin_start": 109.34172347576425,
            "bin_end": 120.28368613107759,
            "count": 1
           },
           {
            "bin_start": 120.28368613107759,
            "bin_end": 131.2256487863909,
            "count": 1
           },
           {
            "bin_start": 131.2256487863909,
            "bin_end": 142.16761144170422,
            "count": 0
           },
           {
            "bin_start": 142.16761144170422,
            "bin_end": 153.10957409701754,
            "count": 0
           },
           {
            "bin_start": 153.10957409701754,
            "bin_end": 164.05153675233086,
            "count": 0
           },
           {
            "bin_start": 164.05153675233086,
            "bin_end": 174.99349940764418,
            "count": 0
           },
           {
            "bin_start": 174.99349940764418,
            "bin_end": 185.9354620629575,
            "count": 0
           },
           {
            "bin_start": 185.9354620629575,
            "bin_end": 196.87742471827082,
            "count": 1
           }
          ]
         }
        },
        {
         "name": "std",
         "dtype": "float64",
         "stats": {
          "unique_count": 5,
          "nan_count": 0,
          "min": "106.7505548174114",
          "max": "291.43550263397896",
          "histogram": [
           {
            "bin_start": 106.7505548174114,
            "bin_end": 125.21904959906816,
            "count": 1
           },
           {
            "bin_start": 125.21904959906816,
            "bin_end": 143.68754438072492,
            "count": 0
           },
           {
            "bin_start": 143.68754438072492,
            "bin_end": 162.15603916238166,
            "count": 0
           },
           {
            "bin_start": 162.15603916238166,
            "bin_end": 180.62453394403843,
            "count": 1
           },
           {
            "bin_start": 180.62453394403843,
            "bin_end": 199.09302872569518,
            "count": 1
           },
           {
            "bin_start": 199.09302872569518,
            "bin_end": 217.56152350735192,
            "count": 0
           },
           {
            "bin_start": 217.56152350735192,
            "bin_end": 236.0300182890087,
            "count": 0
           },
           {
            "bin_start": 236.0300182890087,
            "bin_end": 254.49851307066544,
            "count": 0
           },
           {
            "bin_start": 254.49851307066544,
            "bin_end": 272.9670078523222,
            "count": 0
           },
           {
            "bin_start": 272.9670078523222,
            "bin_end": 291.43550263397896,
            "count": 2
           }
          ]
         }
        },
        {
         "name": "50%",
         "dtype": "float64",
         "stats": {
          "unique_count": 4,
          "nan_count": 0,
          "min": "65.0",
          "max": "150.0",
          "histogram": [
           {
            "bin_start": 65,
            "bin_end": 73.5,
            "count": 1
           },
           {
            "bin_start": 73.5,
            "bin_end": 82,
            "count": 2
           },
           {
            "bin_start": 82,
            "bin_end": 90.5,
            "count": 1
           },
           {
            "bin_start": 90.5,
            "bin_end": 99,
            "count": 0
           },
           {
            "bin_start": 99,
            "bin_end": 107.5,
            "count": 0
           },
           {
            "bin_start": 107.5,
            "bin_end": 116,
            "count": 0
           },
           {
            "bin_start": 116,
            "bin_end": 124.5,
            "count": 0
           },
           {
            "bin_start": 124.5,
            "bin_end": 133,
            "count": 0
           },
           {
            "bin_start": 133,
            "bin_end": 141.5,
            "count": 0
           },
           {
            "bin_start": 141.5,
            "bin_end": 150,
            "count": 1
           }
          ]
         }
        },
        {
         "name": "max",
         "dtype": "float64",
         "stats": {
          "unique_count": 3,
          "nan_count": 0,
          "min": "2500.0",
          "max": "10000.0",
          "histogram": [
           {
            "bin_start": 2500,
            "bin_end": 3250,
            "count": 1
           },
           {
            "bin_start": 3250,
            "bin_end": 4000,
            "count": 0
           },
           {
            "bin_start": 4000,
            "bin_end": 4750,
            "count": 0
           },
           {
            "bin_start": 4750,
            "bin_end": 5500,
            "count": 1
           },
           {
            "bin_start": 5500,
            "bin_end": 6250,
            "count": 0
           },
           {
            "bin_start": 6250,
            "bin_end": 7000,
            "count": 0
           },
           {
            "bin_start": 7000,
            "bin_end": 7750,
            "count": 0
           },
           {
            "bin_start": 7750,
            "bin_end": 8500,
            "count": 0
           },
           {
            "bin_start": 8500,
            "bin_end": 9250,
            "count": 0
           },
           {
            "bin_start": 9250,
            "bin_end": 10000,
            "count": 3
           }
          ]
         }
        },
        {
         "name": "_deepnote_index_column",
         "dtype": "object"
        }
       ],
       "rows_top": [
        {
         "count": 1090,
         "mean": 87.45779816513762,
         "std": 106.7505548174114,
         "50%": 65,
         "max": 2500,
         "_deepnote_index_column": "Bronx"
        },
        {
         "count": 20098,
         "mean": 124.3957110160215,
         "std": 186.89895340640643,
         "50%": 90,
         "max": 10000,
         "_deepnote_index_column": "Brooklyn"
        },
        {
         "count": 21652,
         "mean": 196.87742471827082,
         "std": 291.43550263397896,
         "50%": 150,
         "max": 10000,
         "_deepnote_index_column": "Manhattan"
        },
        {
         "count": 5666,
         "mean": 99.51764913519237,
         "std": 167.1021550634422,
         "50%": 75,
         "max": 10000,
         "_deepnote_index_column": "Queens"
        },
        {
         "count": 373,
         "mean": 114.81233243967829,
         "std": 277.6204033246219,
         "50%": 75,
         "max": 5000,
         "_deepnote_index_column": "Staten Island"
        }
       ],
       "rows_bottom": null
      },
      "text/plain": "                       count        mean         std    50%      max\nneighbourhood_group                                                 \nBronx                 1090.0   87.457798  106.750555   65.0   2500.0\nBrooklyn             20098.0  124.395711  186.898953   90.0  10000.0\nManhattan            21652.0  196.877425  291.435503  150.0  10000.0\nQueens                5666.0   99.517649  167.102155   75.0  10000.0\nStaten Island          373.0  114.812332  277.620403   75.0   5000.0",
      "text/html": "<div>\n<style scoped>\n    .dataframe tbody tr th:only-of-type {\n        vertical-align: middle;\n    }\n\n    .dataframe tbody tr th {\n        vertical-align: top;\n    }\n\n    .dataframe thead th {\n        text-align: right;\n    }\n</style>\n<table border=\"1\" class=\"dataframe\">\n  <thead>\n    <tr style=\"text-align: right;\">\n      <th></th>\n      <th>count</th>\n      <th>mean</th>\n      <th>std</th>\n      <th>50%</th>\n      <th>max</th>\n    </tr>\n    <tr>\n      <th>neighbourhood_group</th>\n      <th></th>\n      <th></th>\n      <th></th>\n      <th></th>\n      <th></th>\n    </tr>\n  </thead>\n  <tbody>\n    <tr>\n      <th>Bronx</th>\n      <td>1090.0</td>\n      <td>87.457798</td>\n      <td>106.750555</td>\n      <td>65.0</td>\n      <td>2500.0</td>\n    </tr>\n    <tr>\n      <th>Brooklyn</th>\n      <td>20098.0</td>\n      <td>124.395711</td>\n      <td>186.898953</td>\n      <td>90.0</td>\n      <td>10000.0</td>\n    </tr>\n    <tr>\n      <th>Manhattan</th>\n      <td>21652.0</td>\n      <td>196.877425</td>\n      <td>291.435503</td>\n      <td>150.0</td>\n      <td>10000.0</td>\n    </tr>\n    <tr>\n      <th>Queens</th>\n      <td>5666.0</td>\n      <td>99.517649</td>\n      <td>167.102155</td>\n      <td>75.0</td>\n      <td>10000.0</td>\n    </tr>\n    <tr>\n      <th>Staten Island</th>\n      <td>373.0</td>\n      <td>114.812332</td>\n      <td>277.620403</td>\n      <td>75.0</td>\n      <td>5000.0</td>\n    </tr>\n  </tbody>\n</table>\n</div>"
     },
     "metadata": {}
    }
   ]
  },
  {
   "cell_type": "markdown",
   "source": "## Location, location, location\nIt seems that the famous real estate adage holds true: it's all about location. Median nightly rates in Manhattan are almost double any other borough.",
   "metadata": {
    "tags": [],
    "cell_id": "00003-39c9368d-2144-438e-85ba-e804799b2339",
    "deepnote_cell_type": "markdown"
   }
  },
  {
   "cell_type": "code",
   "metadata": {
    "tags": [],
    "cell_id": "00004-fcdfe795-e8c8-4bf8-9ccf-a72a9e6c4aa0",
    "deepnote_to_be_reexecuted": false,
    "source_hash": "5287ebb2",
    "execution_millis": 64,
    "execution_start": 1627051994167,
    "deepnote_cell_type": "code"
   },
   "source": "airbnb.groupby('neighbourhood_group').price.describe()[['count','mean','50%','max']]\n# Vemos que Manhattan no solo es el mas popular sino que tambien el mas costoso ",
   "execution_count": 5,
   "outputs": [
    {
     "output_type": "execute_result",
     "execution_count": 5,
     "data": {
      "application/vnd.deepnote.dataframe.v2+json": {
       "row_count": 5,
       "column_count": 4,
       "columns": [
        {
         "name": "count",
         "dtype": "float64",
         "stats": {
          "unique_count": 5,
          "nan_count": 0,
          "min": "373.0",
          "max": "21652.0",
          "histogram": [
           {
            "bin_start": 373,
            "bin_end": 2500.9,
            "count": 2
           },
           {
            "bin_start": 2500.9,
            "bin_end": 4628.8,
            "count": 0
           },
           {
            "bin_start": 4628.8,
            "bin_end": 6756.700000000001,
            "count": 1
           },
           {
            "bin_start": 6756.700000000001,
            "bin_end": 8884.6,
            "count": 0
           },
           {
            "bin_start": 8884.6,
            "bin_end": 11012.5,
            "count": 0
           },
           {
            "bin_start": 11012.5,
            "bin_end": 13140.400000000001,
            "count": 0
           },
           {
            "bin_start": 13140.400000000001,
            "bin_end": 15268.300000000001,
            "count": 0
           },
           {
            "bin_start": 15268.300000000001,
            "bin_end": 17396.2,
            "count": 0
           },
           {
            "bin_start": 17396.2,
            "bin_end": 19524.100000000002,
            "count": 0
           },
           {
            "bin_start": 19524.100000000002,
            "bin_end": 21652,
            "count": 2
           }
          ]
         }
        },
        {
         "name": "mean",
         "dtype": "float64",
         "stats": {
          "unique_count": 5,
          "nan_count": 0,
          "min": "87.45779816513762",
          "max": "196.87742471827082",
          "histogram": [
           {
            "bin_start": 87.45779816513762,
            "bin_end": 98.39976082045094,
            "count": 1
           },
           {
            "bin_start": 98.39976082045094,
            "bin_end": 109.34172347576425,
            "count": 1
           },
           {
            "bin_start": 109.34172347576425,
            "bin_end": 120.28368613107759,
            "count": 1
           },
           {
            "bin_start": 120.28368613107759,
            "bin_end": 131.2256487863909,
            "count": 1
           },
           {
            "bin_start": 131.2256487863909,
            "bin_end": 142.16761144170422,
            "count": 0
           },
           {
            "bin_start": 142.16761144170422,
            "bin_end": 153.10957409701754,
            "count": 0
           },
           {
            "bin_start": 153.10957409701754,
            "bin_end": 164.05153675233086,
            "count": 0
           },
           {
            "bin_start": 164.05153675233086,
            "bin_end": 174.99349940764418,
            "count": 0
           },
           {
            "bin_start": 174.99349940764418,
            "bin_end": 185.9354620629575,
            "count": 0
           },
           {
            "bin_start": 185.9354620629575,
            "bin_end": 196.87742471827082,
            "count": 1
           }
          ]
         }
        },
        {
         "name": "50%",
         "dtype": "float64",
         "stats": {
          "unique_count": 4,
          "nan_count": 0,
          "min": "65.0",
          "max": "150.0",
          "histogram": [
           {
            "bin_start": 65,
            "bin_end": 73.5,
            "count": 1
           },
           {
            "bin_start": 73.5,
            "bin_end": 82,
            "count": 2
           },
           {
            "bin_start": 82,
            "bin_end": 90.5,
            "count": 1
           },
           {
            "bin_start": 90.5,
            "bin_end": 99,
            "count": 0
           },
           {
            "bin_start": 99,
            "bin_end": 107.5,
            "count": 0
           },
           {
            "bin_start": 107.5,
            "bin_end": 116,
            "count": 0
           },
           {
            "bin_start": 116,
            "bin_end": 124.5,
            "count": 0
           },
           {
            "bin_start": 124.5,
            "bin_end": 133,
            "count": 0
           },
           {
            "bin_start": 133,
            "bin_end": 141.5,
            "count": 0
           },
           {
            "bin_start": 141.5,
            "bin_end": 150,
            "count": 1
           }
          ]
         }
        },
        {
         "name": "max",
         "dtype": "float64",
         "stats": {
          "unique_count": 3,
          "nan_count": 0,
          "min": "2500.0",
          "max": "10000.0",
          "histogram": [
           {
            "bin_start": 2500,
            "bin_end": 3250,
            "count": 1
           },
           {
            "bin_start": 3250,
            "bin_end": 4000,
            "count": 0
           },
           {
            "bin_start": 4000,
            "bin_end": 4750,
            "count": 0
           },
           {
            "bin_start": 4750,
            "bin_end": 5500,
            "count": 1
           },
           {
            "bin_start": 5500,
            "bin_end": 6250,
            "count": 0
           },
           {
            "bin_start": 6250,
            "bin_end": 7000,
            "count": 0
           },
           {
            "bin_start": 7000,
            "bin_end": 7750,
            "count": 0
           },
           {
            "bin_start": 7750,
            "bin_end": 8500,
            "count": 0
           },
           {
            "bin_start": 8500,
            "bin_end": 9250,
            "count": 0
           },
           {
            "bin_start": 9250,
            "bin_end": 10000,
            "count": 3
           }
          ]
         }
        },
        {
         "name": "_deepnote_index_column",
         "dtype": "object"
        }
       ],
       "rows_top": [
        {
         "count": 1090,
         "mean": 87.45779816513762,
         "50%": 65,
         "max": 2500,
         "_deepnote_index_column": "Bronx"
        },
        {
         "count": 20098,
         "mean": 124.3957110160215,
         "50%": 90,
         "max": 10000,
         "_deepnote_index_column": "Brooklyn"
        },
        {
         "count": 21652,
         "mean": 196.87742471827082,
         "50%": 150,
         "max": 10000,
         "_deepnote_index_column": "Manhattan"
        },
        {
         "count": 5666,
         "mean": 99.51764913519237,
         "50%": 75,
         "max": 10000,
         "_deepnote_index_column": "Queens"
        },
        {
         "count": 373,
         "mean": 114.81233243967829,
         "50%": 75,
         "max": 5000,
         "_deepnote_index_column": "Staten Island"
        }
       ],
       "rows_bottom": null
      },
      "text/plain": "                       count        mean    50%      max\nneighbourhood_group                                     \nBronx                 1090.0   87.457798   65.0   2500.0\nBrooklyn             20098.0  124.395711   90.0  10000.0\nManhattan            21652.0  196.877425  150.0  10000.0\nQueens                5666.0   99.517649   75.0  10000.0\nStaten Island          373.0  114.812332   75.0   5000.0",
      "text/html": "<div>\n<style scoped>\n    .dataframe tbody tr th:only-of-type {\n        vertical-align: middle;\n    }\n\n    .dataframe tbody tr th {\n        vertical-align: top;\n    }\n\n    .dataframe thead th {\n        text-align: right;\n    }\n</style>\n<table border=\"1\" class=\"dataframe\">\n  <thead>\n    <tr style=\"text-align: right;\">\n      <th></th>\n      <th>count</th>\n      <th>mean</th>\n      <th>50%</th>\n      <th>max</th>\n    </tr>\n    <tr>\n      <th>neighbourhood_group</th>\n      <th></th>\n      <th></th>\n      <th></th>\n      <th></th>\n    </tr>\n  </thead>\n  <tbody>\n    <tr>\n      <th>Bronx</th>\n      <td>1090.0</td>\n      <td>87.457798</td>\n      <td>65.0</td>\n      <td>2500.0</td>\n    </tr>\n    <tr>\n      <th>Brooklyn</th>\n      <td>20098.0</td>\n      <td>124.395711</td>\n      <td>90.0</td>\n      <td>10000.0</td>\n    </tr>\n    <tr>\n      <th>Manhattan</th>\n      <td>21652.0</td>\n      <td>196.877425</td>\n      <td>150.0</td>\n      <td>10000.0</td>\n    </tr>\n    <tr>\n      <th>Queens</th>\n      <td>5666.0</td>\n      <td>99.517649</td>\n      <td>75.0</td>\n      <td>10000.0</td>\n    </tr>\n    <tr>\n      <th>Staten Island</th>\n      <td>373.0</td>\n      <td>114.812332</td>\n      <td>75.0</td>\n      <td>5000.0</td>\n    </tr>\n  </tbody>\n</table>\n</div>"
     },
     "metadata": {}
    }
   ]
  },
  {
   "cell_type": "markdown",
   "source": "The neighbourhood is just as important in determining the price. Though both are in Manhattan, the nightly rate in Tribeca is more than quadruple the rate in Washington Heights.",
   "metadata": {
    "tags": [],
    "cell_id": "00005-f03a0ef8-ee26-4cc6-a4c6-0ce7c43955a4",
    "deepnote_cell_type": "markdown"
   }
  },
  {
   "cell_type": "code",
   "metadata": {
    "tags": [],
    "cell_id": "00006-b622846f-d2e0-476e-bb33-886e8796ca6b",
    "deepnote_to_be_reexecuted": false,
    "source_hash": "95ad4cc2",
    "execution_millis": 116,
    "execution_start": 1627051994285,
    "deepnote_cell_type": "code"
   },
   "source": "a = airbnb.loc[airbnb.neighbourhood_group == 'Manhattan'].groupby('neighbourhood')['price'].describe()[['count', 'mean', '50%', 'max']]\na.sort_values('50%', ascending=False)",
   "execution_count": 6,
   "outputs": [
    {
     "output_type": "execute_result",
     "execution_count": 6,
     "data": {
      "application/vnd.deepnote.dataframe.v2+json": {
       "row_count": 32,
       "column_count": 4,
       "columns": [
        {
         "name": "count",
         "dtype": "float64",
         "stats": {
          "unique_count": 31,
          "nan_count": 0,
          "min": "12.0",
          "max": "2657.0",
          "histogram": [
           {
            "bin_start": 12,
            "bin_end": 276.5,
            "count": 12
           },
           {
            "bin_start": 276.5,
            "bin_end": 541,
            "count": 8
           },
           {
            "bin_start": 541,
            "bin_end": 805.5,
            "count": 2
           },
           {
            "bin_start": 805.5,
            "bin_end": 1070,
            "count": 2
           },
           {
            "bin_start": 1070,
            "bin_end": 1334.5,
            "count": 2
           },
           {
            "bin_start": 1334.5,
            "bin_end": 1599,
            "count": 1
           },
           {
            "bin_start": 1599,
            "bin_end": 1863.5,
            "count": 2
           },
           {
            "bin_start": 1863.5,
            "bin_end": 2128,
            "count": 2
           },
           {
            "bin_start": 2128,
            "bin_end": 2392.5,
            "count": 0
           },
           {
            "bin_start": 2392.5,
            "bin_end": 2657,
            "count": 1
           }
          ]
         }
        },
        {
         "name": "mean",
         "dtype": "float64",
         "stats": {
          "unique_count": 32,
          "nan_count": 0,
          "min": "88.89682539682539",
          "max": "490.638418079096",
          "histogram": [
           {
            "bin_start": 88.89682539682539,
            "bin_end": 129.07098466505244,
            "count": 7
           },
           {
            "bin_start": 129.07098466505244,
            "bin_end": 169.2451439332795,
            "count": 3
           },
           {
            "bin_start": 169.2451439332795,
            "bin_end": 209.41930320150658,
            "count": 6
           },
           {
            "bin_start": 209.41930320150658,
            "bin_end": 249.59346246973362,
            "count": 7
           },
           {
            "bin_start": 249.59346246973362,
            "bin_end": 289.76762173796067,
            "count": 5
           },
           {
            "bin_start": 289.76762173796067,
            "bin_end": 329.94178100618774,
            "count": 1
           },
           {
            "bin_start": 329.94178100618774,
            "bin_end": 370.1159402744148,
            "count": 2
           },
           {
            "bin_start": 370.1159402744148,
            "bin_end": 410.2900995426419,
            "count": 0
           },
           {
            "bin_start": 410.2900995426419,
            "bin_end": 450.46425881086896,
            "count": 0
           },
           {
            "bin_start": 450.46425881086896,
            "bin_end": 490.638418079096,
            "count": 1
           }
          ]
         }
        },
        {
         "name": "50%",
         "dtype": "float64",
         "stats": {
          "unique_count": 27,
          "nan_count": 0,
          "min": "72.0",
          "max": "295.0",
          "histogram": [
           {
            "bin_start": 72,
            "bin_end": 94.3,
            "count": 5
           },
           {
            "bin_start": 94.3,
            "bin_end": 116.6,
            "count": 4
           },
           {
            "bin_start": 116.6,
            "bin_end": 138.9,
            "count": 1
           },
           {
            "bin_start": 138.9,
            "bin_end": 161.2,
            "count": 6
           },
           {
            "bin_start": 161.2,
            "bin_end": 183.5,
            "count": 4
           },
           {
            "bin_start": 183.5,
            "bin_end": 205.8,
            "count": 8
           },
           {
            "bin_start": 205.8,
            "bin_end": 228.1,
            "count": 2
           },
           {
            "bin_start": 228.1,
            "bin_end": 250.4,
            "count": 1
           },
           {
            "bin_start": 250.4,
            "bin_end": 272.70000000000005,
            "count": 0
           },
           {
            "bin_start": 272.70000000000005,
            "bin_end": 295,
            "count": 1
           }
          ]
         }
        },
        {
         "name": "max",
         "dtype": "float64",
         "stats": {
          "unique_count": 25,
          "nan_count": 0,
          "min": "274.0",
          "max": "10000.0",
          "histogram": [
           {
            "bin_start": 274,
            "bin_end": 1246.6,
            "count": 6
           },
           {
            "bin_start": 1246.6,
            "bin_end": 2219.2,
            "count": 6
           },
           {
            "bin_start": 2219.2,
            "bin_end": 3191.8,
            "count": 5
           },
           {
            "bin_start": 3191.8,
            "bin_end": 4164.4,
            "count": 3
           },
           {
            "bin_start": 4164.4,
            "bin_end": 5137,
            "count": 3
           },
           {
            "bin_start": 5137,
            "bin_end": 6109.6,
            "count": 2
           },
           {
            "bin_start": 6109.6,
            "bin_end": 7082.2,
            "count": 1
           },
           {
            "bin_start": 7082.2,
            "bin_end": 8054.8,
            "count": 2
           },
           {
            "bin_start": 8054.8,
            "bin_end": 9027.4,
            "count": 1
           },
           {
            "bin_start": 9027.4,
            "bin_end": 10000,
            "count": 3
           }
          ]
         }
        },
        {
         "name": "_deepnote_index_column",
         "dtype": "object"
        }
       ],
       "rows_top": [
        {
         "count": 177,
         "mean": 490.638418079096,
         "50%": 295,
         "max": 8500,
         "_deepnote_index_column": "Tribeca"
        },
        {
         "count": 78,
         "mean": 295.71794871794873,
         "50%": 250,
         "max": 1795,
         "_deepnote_index_column": "NoHo"
        },
        {
         "count": 80,
         "mean": 341.925,
         "50%": 225,
         "max": 2000,
         "_deepnote_index_column": "Flatiron District"
        },
        {
         "count": 1545,
         "mean": 282.7190938511327,
         "50%": 210,
         "max": 5100,
         "_deepnote_index_column": "Midtown"
        },
        {
         "count": 768,
         "mean": 267.6822916666667,
         "50%": 200,
         "max": 4000,
         "_deepnote_index_column": "West Village"
        },
        {
         "count": 744,
         "mean": 225.49059139784947,
         "50%": 200,
         "max": 3000,
         "_deepnote_index_column": "Financial District"
        },
        {
         "count": 358,
         "mean": 287.1033519553073,
         "50%": 199,
         "max": 3000,
         "_deepnote_index_column": "SoHo"
        },
        {
         "count": 1113,
         "mean": 249.73854447439354,
         "50%": 199,
         "max": 6800,
         "_deepnote_index_column": "Chelsea"
        },
        {
         "count": 391,
         "mean": 263.50383631713555,
         "50%": 197,
         "max": 6000,
         "_deepnote_index_column": "Greenwich Village"
        },
        {
         "count": 69,
         "mean": 367.0869565217391,
         "50%": 195,
         "max": 7500,
         "_deepnote_index_column": "Battery Park City"
        },
        {
         "count": 288,
         "mean": 248.01388888888889,
         "50%": 190,
         "max": 3000,
         "_deepnote_index_column": "Theater District"
        },
        {
         "count": 485,
         "mean": 220.95876288659792,
         "50%": 190,
         "max": 2000,
         "_deepnote_index_column": "Murray Hill"
        },
        {
         "count": 252,
         "mean": 230.1984126984127,
         "50%": 177.5,
         "max": 5000,
         "_deepnote_index_column": "Nolita"
        },
        {
         "count": 52,
         "mean": 191.94230769230768,
         "50%": 169,
         "max": 950,
         "_deepnote_index_column": "Civic Center"
        },
        {
         "count": 1957,
         "mean": 204.80173735309145,
         "50%": 168,
         "max": 4100,
         "_deepnote_index_column": "Hell's Kitchen"
        },
        {
         "count": 338,
         "mean": 222.75443786982248,
         "50%": 165,
         "max": 3000,
         "_deepnote_index_column": "Gramercy"
        },
        {
         "count": 470,
         "mean": 202.40851063829788,
         "50%": 152,
         "max": 2750,
         "_deepnote_index_column": "Kips Bay"
        },
        {
         "count": 1970,
         "mean": 210.9746192893401,
         "50%": 150,
         "max": 10000,
         "_deepnote_index_column": "Upper West Side"
        },
        {
         "count": 121,
         "mean": 222.06611570247935,
         "50%": 150,
         "max": 5250,
         "_deepnote_index_column": "Little Italy"
        },
        {
         "count": 1852,
         "mean": 186.0755939524838,
         "50%": 150,
         "max": 3750,
         "_deepnote_index_column": "East Village"
        },
        {
         "count": 1798,
         "mean": 188.94827586206895,
         "50%": 149,
         "max": 7703,
         "_deepnote_index_column": "Upper East Side"
        },
        {
         "count": 911,
         "mean": 186.31284302963775,
         "50%": 139,
         "max": 9999,
         "_deepnote_index_column": "Lower East Side"
        },
        {
         "count": 367,
         "mean": 161.75476839237058,
         "50%": 129,
         "max": 1500,
         "_deepnote_index_column": "Chinatown"
        },
        {
         "count": 37,
         "mean": 169.1081081081081,
         "50%": 115,
         "max": 1500,
         "_deepnote_index_column": "Stuyvesant Town"
        },
        {
         "count": 72,
         "mean": 127.06944444444444,
         "50%": 109.5,
         "max": 320,
         "_deepnote_index_column": "Two Bridges"
        },
        {
         "count": 1117,
         "mean": 133.1987466427932,
         "50%": 99,
         "max": 9999,
         "_deepnote_index_column": "East Harlem"
        },
        {
         "count": 346,
         "mean": 114.78323699421965,
         "50%": 98.5,
         "max": 1200,
         "_deepnote_index_column": "Morningside Heights"
        },
        {
         "count": 2657,
         "mean": 118.9059089198344,
         "50%": 89,
         "max": 5000,
         "_deepnote_index_column": "Harlem"
        },
        {
         "count": 77,
         "mean": 113.25974025974025,
         "50%": 80,
         "max": 1400,
         "_deepnote_index_column": "Roosevelt Island"
        },
        {
         "count": 252,
         "mean": 88.89682539682539,
         "50%": 77.5,
         "max": 359,
         "_deepnote_index_column": "Inwood"
        },
        {
         "count": 12,
         "mean": 89.16666666666667,
         "50%": 76.5,
         "max": 274,
         "_deepnote_index_column": "Marble Hill"
        },
        {
         "count": 898,
         "mean": 89.66592427616926,
         "50%": 72,
         "max": 1000,
         "_deepnote_index_column": "Washington Heights"
        }
       ],
       "rows_bottom": null
      },
      "text/plain": "                      count        mean    50%      max\nneighbourhood                                          \nTribeca               177.0  490.638418  295.0   8500.0\nNoHo                   78.0  295.717949  250.0   1795.0\nFlatiron District      80.0  341.925000  225.0   2000.0\nMidtown              1545.0  282.719094  210.0   5100.0\nWest Village          768.0  267.682292  200.0   4000.0\nFinancial District    744.0  225.490591  200.0   3000.0\nSoHo                  358.0  287.103352  199.0   3000.0\nChelsea              1113.0  249.738544  199.0   6800.0\nGreenwich Village     391.0  263.503836  197.0   6000.0\nBattery Park City      69.0  367.086957  195.0   7500.0\nTheater District      288.0  248.013889  190.0   3000.0\nMurray Hill           485.0  220.958763  190.0   2000.0\nNolita                252.0  230.198413  177.5   5000.0\nCivic Center           52.0  191.942308  169.0    950.0\nHell's Kitchen       1957.0  204.801737  168.0   4100.0\nGramercy              338.0  222.754438  165.0   3000.0\nKips Bay              470.0  202.408511  152.0   2750.0\nUpper West Side      1970.0  210.974619  150.0  10000.0\nLittle Italy          121.0  222.066116  150.0   5250.0\nEast Village         1852.0  186.075594  150.0   3750.0\nUpper East Side      1798.0  188.948276  149.0   7703.0\nLower East Side       911.0  186.312843  139.0   9999.0\nChinatown             367.0  161.754768  129.0   1500.0\nStuyvesant Town        37.0  169.108108  115.0   1500.0\nTwo Bridges            72.0  127.069444  109.5    320.0\nEast Harlem          1117.0  133.198747   99.0   9999.0\nMorningside Heights   346.0  114.783237   98.5   1200.0\nHarlem               2657.0  118.905909   89.0   5000.0\nRoosevelt Island       77.0  113.259740   80.0   1400.0\nInwood                252.0   88.896825   77.5    359.0\nMarble Hill            12.0   89.166667   76.5    274.0\nWashington Heights    898.0   89.665924   72.0   1000.0",
      "text/html": "<div>\n<style scoped>\n    .dataframe tbody tr th:only-of-type {\n        vertical-align: middle;\n    }\n\n    .dataframe tbody tr th {\n        vertical-align: top;\n    }\n\n    .dataframe thead th {\n        text-align: right;\n    }\n</style>\n<table border=\"1\" class=\"dataframe\">\n  <thead>\n    <tr style=\"text-align: right;\">\n      <th></th>\n      <th>count</th>\n      <th>mean</th>\n      <th>50%</th>\n      <th>max</th>\n    </tr>\n    <tr>\n      <th>neighbourhood</th>\n      <th></th>\n      <th></th>\n      <th></th>\n      <th></th>\n    </tr>\n  </thead>\n  <tbody>\n    <tr>\n      <th>Tribeca</th>\n      <td>177.0</td>\n      <td>490.638418</td>\n      <td>295.0</td>\n      <td>8500.0</td>\n    </tr>\n    <tr>\n      <th>NoHo</th>\n      <td>78.0</td>\n      <td>295.717949</td>\n      <td>250.0</td>\n      <td>1795.0</td>\n    </tr>\n    <tr>\n      <th>Flatiron District</th>\n      <td>80.0</td>\n      <td>341.925000</td>\n      <td>225.0</td>\n      <td>2000.0</td>\n    </tr>\n    <tr>\n      <th>Midtown</th>\n      <td>1545.0</td>\n      <td>282.719094</td>\n      <td>210.0</td>\n      <td>5100.0</td>\n    </tr>\n    <tr>\n      <th>West Village</th>\n      <td>768.0</td>\n      <td>267.682292</td>\n      <td>200.0</td>\n      <td>4000.0</td>\n    </tr>\n    <tr>\n      <th>Financial District</th>\n      <td>744.0</td>\n      <td>225.490591</td>\n      <td>200.0</td>\n      <td>3000.0</td>\n    </tr>\n    <tr>\n      <th>SoHo</th>\n      <td>358.0</td>\n      <td>287.103352</td>\n      <td>199.0</td>\n      <td>3000.0</td>\n    </tr>\n    <tr>\n      <th>Chelsea</th>\n      <td>1113.0</td>\n      <td>249.738544</td>\n      <td>199.0</td>\n      <td>6800.0</td>\n    </tr>\n    <tr>\n      <th>Greenwich Village</th>\n      <td>391.0</td>\n      <td>263.503836</td>\n      <td>197.0</td>\n      <td>6000.0</td>\n    </tr>\n    <tr>\n      <th>Battery Park City</th>\n      <td>69.0</td>\n      <td>367.086957</td>\n      <td>195.0</td>\n      <td>7500.0</td>\n    </tr>\n    <tr>\n      <th>Theater District</th>\n      <td>288.0</td>\n      <td>248.013889</td>\n      <td>190.0</td>\n      <td>3000.0</td>\n    </tr>\n    <tr>\n      <th>Murray Hill</th>\n      <td>485.0</td>\n      <td>220.958763</td>\n      <td>190.0</td>\n      <td>2000.0</td>\n    </tr>\n    <tr>\n      <th>Nolita</th>\n      <td>252.0</td>\n      <td>230.198413</td>\n      <td>177.5</td>\n      <td>5000.0</td>\n    </tr>\n    <tr>\n      <th>Civic Center</th>\n      <td>52.0</td>\n      <td>191.942308</td>\n      <td>169.0</td>\n      <td>950.0</td>\n    </tr>\n    <tr>\n      <th>Hell's Kitchen</th>\n      <td>1957.0</td>\n      <td>204.801737</td>\n      <td>168.0</td>\n      <td>4100.0</td>\n    </tr>\n    <tr>\n      <th>Gramercy</th>\n      <td>338.0</td>\n      <td>222.754438</td>\n      <td>165.0</td>\n      <td>3000.0</td>\n    </tr>\n    <tr>\n      <th>Kips Bay</th>\n      <td>470.0</td>\n      <td>202.408511</td>\n      <td>152.0</td>\n      <td>2750.0</td>\n    </tr>\n    <tr>\n      <th>Upper West Side</th>\n      <td>1970.0</td>\n      <td>210.974619</td>\n      <td>150.0</td>\n      <td>10000.0</td>\n    </tr>\n    <tr>\n      <th>Little Italy</th>\n      <td>121.0</td>\n      <td>222.066116</td>\n      <td>150.0</td>\n      <td>5250.0</td>\n    </tr>\n    <tr>\n      <th>East Village</th>\n      <td>1852.0</td>\n      <td>186.075594</td>\n      <td>150.0</td>\n      <td>3750.0</td>\n    </tr>\n    <tr>\n      <th>Upper East Side</th>\n      <td>1798.0</td>\n      <td>188.948276</td>\n      <td>149.0</td>\n      <td>7703.0</td>\n    </tr>\n    <tr>\n      <th>Lower East Side</th>\n      <td>911.0</td>\n      <td>186.312843</td>\n      <td>139.0</td>\n      <td>9999.0</td>\n    </tr>\n    <tr>\n      <th>Chinatown</th>\n      <td>367.0</td>\n      <td>161.754768</td>\n      <td>129.0</td>\n      <td>1500.0</td>\n    </tr>\n    <tr>\n      <th>Stuyvesant Town</th>\n      <td>37.0</td>\n      <td>169.108108</td>\n      <td>115.0</td>\n      <td>1500.0</td>\n    </tr>\n    <tr>\n      <th>Two Bridges</th>\n      <td>72.0</td>\n      <td>127.069444</td>\n      <td>109.5</td>\n      <td>320.0</td>\n    </tr>\n    <tr>\n      <th>East Harlem</th>\n      <td>1117.0</td>\n      <td>133.198747</td>\n      <td>99.0</td>\n      <td>9999.0</td>\n    </tr>\n    <tr>\n      <th>Morningside Heights</th>\n      <td>346.0</td>\n      <td>114.783237</td>\n      <td>98.5</td>\n      <td>1200.0</td>\n    </tr>\n    <tr>\n      <th>Harlem</th>\n      <td>2657.0</td>\n      <td>118.905909</td>\n      <td>89.0</td>\n      <td>5000.0</td>\n    </tr>\n    <tr>\n      <th>Roosevelt Island</th>\n      <td>77.0</td>\n      <td>113.259740</td>\n      <td>80.0</td>\n      <td>1400.0</td>\n    </tr>\n    <tr>\n      <th>Inwood</th>\n      <td>252.0</td>\n      <td>88.896825</td>\n      <td>77.5</td>\n      <td>359.0</td>\n    </tr>\n    <tr>\n      <th>Marble Hill</th>\n      <td>12.0</td>\n      <td>89.166667</td>\n      <td>76.5</td>\n      <td>274.0</td>\n    </tr>\n    <tr>\n      <th>Washington Heights</th>\n      <td>898.0</td>\n      <td>89.665924</td>\n      <td>72.0</td>\n      <td>1000.0</td>\n    </tr>\n  </tbody>\n</table>\n</div>"
     },
     "metadata": {}
    }
   ]
  },
  {
   "cell_type": "code",
   "metadata": {
    "tags": [],
    "cell_id": "00011-1000908d-2871-4132-bc79-e786c5a1c5f5",
    "deepnote_to_be_reexecuted": false,
    "source_hash": "45513eef",
    "execution_start": 1627051994455,
    "execution_millis": 992,
    "deepnote_cell_type": "code"
   },
   "source": "# Vamos a mejorar un poco mas los datso sacando los valores atipicos para mejorar nuestra exploracion de datos\n# En este caso vamos con solo Manhattan \n# Quartiles\n\nQ1 = airbnb[airbnb['neighbourhood_group'] == 'Manhattan']['price'].quantile(q = 0.25)\nQ3 = airbnb[airbnb['neighbourhood_group'] == 'Manhattan']['price'].quantile(q = 0.75)\niqr_m = Q3 - Q1\nminlimit_m = Q1 - 1.5 * iqr_m \nmaxlimit_m = Q3 + 1.5 * iqr_m\n\nmanhathan = airbnb.loc[(airbnb['neighbourhood_group']=='Manhattan') & (airbnb['price'] <= maxlimit_m)]\n# Vemos que es muy efectivo poner cifras cerradas en las publicaciones\nsns.histplot(data=manhathan, x='price', hue='room_type', multiple='stack',edgecolor=\".3\")\n",
   "execution_count": 7,
   "outputs": [
    {
     "output_type": "execute_result",
     "execution_count": 7,
     "data": {
      "text/plain": "<AxesSubplot:xlabel='price', ylabel='Count'>"
     },
     "metadata": {}
    },
    {
     "data": {
      "text/plain": "<Figure size 842.4x595.44 with 1 Axes>",
      "image/png": "[encoded data removed]"
     },
     "metadata": {
      "image/png": {
       "width": 721,
       "height": 500
      }
     },
     "output_type": "display_data"
    }
   ]
  },
  {
   "cell_type": "markdown",
   "source": "## Room type\nAirBnB offers everything from shared rooms to entire apartments. We can see that a shared room doesn't't cost much less than a private room, it's only once we upgrade to an entire apartment that the price increases significantly.",
   "metadata": {
    "tags": [],
    "cell_id": "00007-e92d259d-c3b0-4aee-9b49-490f4c7c5492",
    "deepnote_cell_type": "markdown"
   }
  },
  {
   "cell_type": "code",
   "metadata": {
    "tags": [],
    "cell_id": "00002-d3d27723-ae05-4c14-8f1d-37651a4d10b1",
    "deepnote_to_be_reexecuted": false,
    "source_hash": "fc044d64",
    "execution_millis": 67,
    "execution_start": 1627051995454,
    "deepnote_cell_type": "code"
   },
   "source": "tipo = airbnb.groupby('room_type').price.describe()\n\ntipo",
   "execution_count": 8,
   "outputs": [
    {
     "output_type": "execute_result",
     "execution_count": 8,
     "data": {
      "application/vnd.deepnote.dataframe.v2+json": {
       "row_count": 3,
       "column_count": 8,
       "columns": [
        {
         "name": "count",
         "dtype": "float64",
         "stats": {
          "unique_count": 3,
          "nan_count": 0,
          "min": "1159.0",
          "max": "25402.0",
          "histogram": [
           {
            "bin_start": 1159,
            "bin_end": 3583.3,
            "count": 1
           },
           {
            "bin_start": 3583.3,
            "bin_end": 6007.6,
            "count": 0
           },
           {
            "bin_start": 6007.6,
            "bin_end": 8431.900000000001,
            "count": 0
           },
           {
            "bin_start": 8431.900000000001,
            "bin_end": 10856.2,
            "count": 0
           },
           {
            "bin_start": 10856.2,
            "bin_end": 13280.5,
            "count": 0
           },
           {
            "bin_start": 13280.5,
            "bin_end": 15704.800000000001,
            "count": 0
           },
           {
            "bin_start": 15704.800000000001,
            "bin_end": 18129.100000000002,
            "count": 0
           },
           {
            "bin_start": 18129.100000000002,
            "bin_end": 20553.4,
            "count": 0
           },
           {
            "bin_start": 20553.4,
            "bin_end": 22977.7,
            "count": 1
           },
           {
            "bin_start": 22977.7,
            "bin_end": 25402,
            "count": 1
           }
          ]
         }
        },
        {
         "name": "mean",
         "dtype": "float64",
         "stats": {
          "unique_count": 3,
          "nan_count": 0,
          "min": "70.07592752372734",
          "max": "211.78804818518228",
          "histogram": [
           {
            "bin_start": 70.07592752372734,
            "bin_end": 84.24713958987284,
            "count": 1
           },
           {
            "bin_start": 84.24713958987284,
            "bin_end": 98.41835165601833,
            "count": 1
           },
           {
            "bin_start": 98.41835165601833,
            "bin_end": 112.58956372216383,
            "count": 0
           },
           {
            "bin_start": 112.58956372216383,
            "bin_end": 126.76077578830933,
            "count": 0
           },
           {
            "bin_start": 126.76077578830933,
            "bin_end": 140.9319878544548,
            "count": 0
           },
           {
            "bin_start": 140.9319878544548,
            "bin_end": 155.10319992060033,
            "count": 0
           },
           {
            "bin_start": 155.10319992060033,
            "bin_end": 169.2744119867458,
            "count": 0
           },
           {
            "bin_start": 169.2744119867458,
            "bin_end": 183.4456240528913,
            "count": 0
           },
           {
            "bin_start": 183.4456240528913,
            "bin_end": 197.6168361190368,
            "count": 0
           },
           {
            "bin_start": 197.6168361190368,
            "bin_end": 211.78804818518228,
            "count": 1
           }
          ]
         }
        },
        {
         "name": "std",
         "dtype": "float64",
         "stats": {
          "unique_count": 3,
          "nan_count": 0,
          "min": "101.75394192046804",
          "max": "284.0769793588053",
          "histogram": [
           {
            "bin_start": 101.75394192046804,
            "bin_end": 119.98624566430176,
            "count": 1
           },
           {
            "bin_start": 119.98624566430176,
            "bin_end": 138.2185494081355,
            "count": 0
           },
           {
            "bin_start": 138.2185494081355,
            "bin_end": 156.45085315196923,
            "count": 0
           },
           {
            "bin_start": 156.45085315196923,
            "bin_end": 174.68315689580294,
            "count": 1
           },
           {
            "bin_start": 174.68315689580294,
            "bin_end": 192.91546063963668,
            "count": 0
           },
           {
            "bin_start": 192.91546063963668,
            "bin_end": 211.14776438347042,
            "count": 0
           },
           {
            "bin_start": 211.14776438347042,
            "bin_end": 229.38006812730413,
            "count": 0
           },
           {
            "bin_start": 229.38006812730413,
            "bin_end": 247.61237187113787,
            "count": 0
           },
           {
            "bin_start": 247.61237187113787,
            "bin_end": 265.8446756149716,
            "count": 0
           },
           {
            "bin_start": 265.8446756149716,
            "bin_end": 284.0769793588053,
            "count": 1
           }
          ]
         }
        },
        {
         "name": "min",
         "dtype": "float64",
         "stats": {
          "unique_count": 1,
          "nan_count": 0,
          "min": "0.0",
          "max": "0.0",
          "histogram": [
           {
            "bin_start": -0.5,
            "bin_end": -0.4,
            "count": 0
           },
           {
            "bin_start": -0.4,
            "bin_end": -0.3,
            "count": 0
           },
           {
            "bin_start": -0.3,
            "bin_end": -0.19999999999999996,
            "count": 0
           },
           {
            "bin_start": -0.19999999999999996,
            "bin_end": -0.09999999999999998,
            "count": 0
           },
           {
            "bin_start": -0.09999999999999998,
            "bin_end": 0,
            "count": 0
           },
           {
            "bin_start": 0,
            "bin_end": 0.10000000000000009,
            "count": 3
           },
           {
            "bin_start": 0.10000000000000009,
            "bin_end": 0.20000000000000007,
            "count": 0
           },
           {
            "bin_start": 0.20000000000000007,
            "bin_end": 0.30000000000000004,
            "count": 0
           },
           {
            "bin_start": 0.30000000000000004,
            "bin_end": 0.4,
            "count": 0
           },
           {
            "bin_start": 0.4,
            "bin_end": 0.5,
            "count": 0
           }
          ]
         }
        },
        {
         "name": "25%",
         "dtype": "float64",
         "stats": {
          "unique_count": 3,
          "nan_count": 0,
          "min": "33.0",
          "max": "120.0",
          "histogram": [
           {
            "bin_start": 33,
            "bin_end": 41.7,
            "count": 1
           },
           {
            "bin_start": 41.7,
            "bin_end": 50.4,
            "count": 1
           },
           {
            "bin_start": 50.4,
            "bin_end": 59.099999999999994,
            "count": 0
           },
           {
            "bin_start": 59.099999999999994,
            "bin_end": 67.8,
            "count": 0
           },
           {
            "bin_start": 67.8,
            "bin_end": 76.5,
            "count": 0
           },
           {
            "bin_start": 76.5,
            "bin_end": 85.19999999999999,
            "count": 0
           },
           {
            "bin_start": 85.19999999999999,
            "bin_end": 93.89999999999999,
            "count": 0
           },
           {
            "bin_start": 93.89999999999999,
            "bin_end": 102.6,
            "count": 0
           },
           {
            "bin_start": 102.6,
            "bin_end": 111.3,
            "count": 0
           },
           {
            "bin_start": 111.3,
            "bin_end": 120,
            "count": 1
           }
          ]
         }
        },
        {
         "name": "50%",
         "dtype": "float64",
         "stats": {
          "unique_count": 3,
          "nan_count": 0,
          "min": "45.0",
          "max": "160.0",
          "histogram": [
           {
            "bin_start": 45,
            "bin_end": 56.5,
            "count": 1
           },
           {
            "bin_start": 56.5,
            "bin_end": 68,
            "count": 0
           },
           {
            "bin_start": 68,
            "bin_end": 79.5,
            "count": 1
           },
           {
            "bin_start": 79.5,
            "bin_end": 91,
            "count": 0
           },
           {
            "bin_start": 91,
            "bin_end": 102.5,
            "count": 0
           },
           {
            "bin_start": 102.5,
            "bin_end": 114,
            "count": 0
           },
           {
            "bin_start": 114,
            "bin_end": 125.5,
            "count": 0
           },
           {
            "bin_start": 125.5,
            "bin_end": 137,
            "count": 0
           },
           {
            "bin_start": 137,
            "bin_end": 148.5,
            "count": 0
           },
           {
            "bin_start": 148.5,
            "bin_end": 160,
            "count": 1
           }
          ]
         }
        },
        {
         "name": "75%",
         "dtype": "float64",
         "stats": {
          "unique_count": 3,
          "nan_count": 0,
          "min": "75.0",
          "max": "229.0",
          "histogram": [
           {
            "bin_start": 75,
            "bin_end": 90.4,
            "count": 1
           },
           {
            "bin_start": 90.4,
            "bin_end": 105.8,
            "count": 1
           },
           {
            "bin_start": 105.8,
            "bin_end": 121.2,
            "count": 0
           },
           {
            "bin_start": 121.2,
            "bin_end": 136.6,
            "count": 0
           },
           {
            "bin_start": 136.6,
            "bin_end": 152,
            "count": 0
           },
           {
            "bin_start": 152,
            "bin_end": 167.4,
            "count": 0
           },
           {
            "bin_start": 167.4,
            "bin_end": 182.8,
            "count": 0
           },
           {
            "bin_start": 182.8,
            "bin_end": 198.2,
            "count": 0
           },
           {
            "bin_start": 198.2,
            "bin_end": 213.6,
            "count": 0
           },
           {
            "bin_start": 213.6,
            "bin_end": 229,
            "count": 1
           }
          ]
         }
        },
        {
         "name": "max",
         "dtype": "float64",
         "stats": {
          "unique_count": 2,
          "nan_count": 0,
          "min": "1800.0",
          "max": "10000.0",
          "histogram": [
           {
            "bin_start": 1800,
            "bin_end": 2620,
            "count": 1
           },
           {
            "bin_start": 2620,
            "bin_end": 3440,
            "count": 0
           },
           {
            "bin_start": 3440,
            "bin_end": 4260,
            "count": 0
           },
           {
            "bin_start": 4260,
            "bin_end": 5080,
            "count": 0
           },
           {
            "bin_start": 5080,
            "bin_end": 5900,
            "count": 0
           },
           {
            "bin_start": 5900,
            "bin_end": 6720,
            "count": 0
           },
           {
            "bin_start": 6720,
            "bin_end": 7540,
            "count": 0
           },
           {
            "bin_start": 7540,
            "bin_end": 8360,
            "count": 0
           },
           {
            "bin_start": 8360,
            "bin_end": 9180,
            "count": 0
           },
           {
            "bin_start": 9180,
            "bin_end": 10000,
            "count": 2
           }
          ]
         }
        },
        {
         "name": "_deepnote_index_column",
         "dtype": "object"
        }
       ],
       "rows_top": [
        {
         "count": 25402,
         "mean": 211.78804818518228,
         "std": 284.0769793588053,
         "min": 0,
         "25%": 120,
         "50%": 160,
         "75%": 229,
         "max": 10000,
         "_deepnote_index_column": "Entire home/apt"
        },
        {
         "count": 22318,
         "mean": 89.7866296263106,
         "std": 160.23242236334434,
         "min": 0,
         "25%": 50,
         "50%": 70,
         "75%": 95,
         "max": 10000,
         "_deepnote_index_column": "Private room"
        },
        {
         "count": 1159,
         "mean": 70.07592752372734,
         "std": 101.75394192046804,
         "min": 0,
         "25%": 33,
         "50%": 45,
         "75%": 75,
         "max": 1800,
         "_deepnote_index_column": "Shared room"
        }
       ],
       "rows_bottom": null
      },
      "text/plain": "                   count        mean         std  min    25%    50%    75%  \\\nroom_type                                                                    \nEntire home/apt  25402.0  211.788048  284.076979  0.0  120.0  160.0  229.0   \nPrivate room     22318.0   89.786630  160.232422  0.0   50.0   70.0   95.0   \nShared room       1159.0   70.075928  101.753942  0.0   33.0   45.0   75.0   \n\n                     max  \nroom_type                 \nEntire home/apt  10000.0  \nPrivate room     10000.0  \nShared room       1800.0  ",
      "text/html": "<div>\n<style scoped>\n    .dataframe tbody tr th:only-of-type {\n        vertical-align: middle;\n    }\n\n    .dataframe tbody tr th {\n        vertical-align: top;\n    }\n\n    .dataframe thead th {\n        text-align: right;\n    }\n</style>\n<table border=\"1\" class=\"dataframe\">\n  <thead>\n    <tr style=\"text-align: right;\">\n      <th></th>\n      <th>count</th>\n      <th>mean</th>\n      <th>std</th>\n      <th>min</th>\n      <th>25%</th>\n      <th>50%</th>\n      <th>75%</th>\n      <th>max</th>\n    </tr>\n    <tr>\n      <th>room_type</th>\n      <th></th>\n      <th></th>\n      <th></th>\n      <th></th>\n      <th></th>\n      <th></th>\n      <th></th>\n      <th></th>\n    </tr>\n  </thead>\n  <tbody>\n    <tr>\n      <th>Entire home/apt</th>\n      <td>25402.0</td>\n      <td>211.788048</td>\n      <td>284.076979</td>\n      <td>0.0</td>\n      <td>120.0</td>\n      <td>160.0</td>\n      <td>229.0</td>\n      <td>10000.0</td>\n    </tr>\n    <tr>\n      <th>Private room</th>\n      <td>22318.0</td>\n      <td>89.786630</td>\n      <td>160.232422</td>\n      <td>0.0</td>\n      <td>50.0</td>\n      <td>70.0</td>\n      <td>95.0</td>\n      <td>10000.0</td>\n    </tr>\n    <tr>\n      <th>Shared room</th>\n      <td>1159.0</td>\n      <td>70.075928</td>\n      <td>101.753942</td>\n      <td>0.0</td>\n      <td>33.0</td>\n      <td>45.0</td>\n      <td>75.0</td>\n      <td>1800.0</td>\n    </tr>\n  </tbody>\n</table>\n</div>"
     },
     "metadata": {}
    }
   ]
  },
  {
   "cell_type": "markdown",
   "source": "",
   "metadata": {
    "tags": [],
    "cell_id": "00031-c565bb3c-483d-4384-8dac-00a2185024dc",
    "deepnote_cell_type": "markdown"
   }
  },
  {
   "cell_type": "markdown",
   "source": "## Vamos a ver las características de los anfitriones",
   "metadata": {
    "tags": [],
    "cell_id": "00014-d7383b8f-969d-4c67-966c-73d0bc8fc09e",
    "is_collapsed": false,
    "deepnote_cell_type": "text-cell-h2"
   }
  },
  {
   "cell_type": "code",
   "metadata": {
    "tags": [],
    "cell_id": "00017-c4b943b7-7ae1-49a3-8ba1-e61a0b30bc6c",
    "deepnote_to_be_reexecuted": false,
    "source_hash": "5ad5ac7d",
    "execution_start": 1627051995525,
    "execution_millis": 1998,
    "deepnote_cell_type": "code"
   },
   "source": "# Vamos a organizar los datos de los outlairs para ver un poco mejor los datos \nQ1 = airbnb['price'].quantile(q = 0.25)\nQ3 = airbnb['price'].quantile(q = 0.75)\nmax_val = airbnb['price'].quantile(q = 1 )\niqr_air = Q3 - Q1\nminlimit_air = Q1 - 1.5 * iqr_air\nmaxlimit_air = Q3 + 1.5 * iqr_air\n\nairbnb_norm = airbnb[(airbnb.price <= maxlimit_air) & (airbnb.price <= maxlimit_air)]\nsns.histplot(data=airbnb_norm, x = 'price', hue = 'neighbourhood_group', multiple='stack')\n# Algo que seguimos viendo de todos los sectores es que se apoyan fuertemente en el precio de la oferta con \n# numeros cerrados",
   "execution_count": 9,
   "outputs": [
    {
     "output_type": "execute_result",
     "execution_count": 9,
     "data": {
      "text/plain": "<AxesSubplot:xlabel='price', ylabel='Count'>"
     },
     "metadata": {}
    },
    {
     "data": {
      "text/plain": "<Figure size 842.4x595.44 with 1 Axes>",
      "image/png": "[encoded data removed]"
     },
     "metadata": {
      "image/png": {
       "width": 730,
       "height": 500
      }
     },
     "output_type": "display_data"
    }
   ]
  },
  {
   "cell_type": "code",
   "metadata": {
    "tags": [],
    "cell_id": "00017-7bc6e16c-bd41-4124-ba28-9d1caad501b5",
    "deepnote_to_be_reexecuted": false,
    "source_hash": "815a209",
    "execution_start": 1627051997537,
    "execution_millis": 640,
    "deepnote_cell_type": "code"
   },
   "source": "# Vamos a ver al respecto de los anfitriones un poco mas a fondo\n# plt.figure(figsize=(10, 10))\nsns.set(font_scale=1.5)\n# Vamos a escalar los datos a ver que tal nos queda\nscaler = StandardScaler()\nscaled = scaler.fit_transform(\n    airbnb_norm[['price','minimum_nights', 'number_of_reviews', 'reviews_per_month', \n    'calculated_host_listings_count','availability_365']]\n)\nmatrix_covariance = np.cov(scaled.T)\nsns.heatmap(matrix_covariance,\n                cbar=True,\n                 annot=True,\n                 square=True,\n                 fmt='.2f',\n                 annot_kws={'size': 12},\n                 yticklabels=['price','minimum_nights', 'number_of_reviews', 'reviews_per_month', \n    'calculated_host_listings_count','availability_365'],\n                 xticklabels=['price','minimum_nights', 'number_of_reviews', 'reviews_per_month', \n    'calculated_host_listings_count','availability_365']\n                 )",
   "execution_count": 10,
   "outputs": [
    {
     "output_type": "execute_result",
     "execution_count": 10,
     "data": {
      "text/plain": "<AxesSubplot:>"
     },
     "metadata": {}
    },
    {
     "data": {
      "text/plain": "<Figure size 842.4x595.44 with 2 Axes>",
      "image/png": "[encoded data removed]"
     },
     "metadata": {
      "image/png": {
       "width": 814,
       "height": 730
      }
     },
     "output_type": "display_data"
    }
   ]
  },
  {
   "cell_type": "code",
   "metadata": {
    "tags": [],
    "cell_id": "00018-8b4bff9a-2f74-4426-935d-b60ef7362ec5",
    "deepnote_to_be_reexecuted": false,
    "source_hash": "b623e53d",
    "execution_start": 1627051998182,
    "execution_millis": 1,
    "deepnote_cell_type": "code"
   },
   "source": "",
   "execution_count": 10,
   "outputs": []
  },
  {
   "cell_type": "markdown",
   "source": "<a style='text-decoration:none;line-height:16px;display:flex;color:#5B5B62;padding:10px;justify-content:end;' href='https://deepnote.com?utm_source=created-in-deepnote-cell&projectId=d0141576-334e-4461-acb2-ff7d1b20738c' target=\"_blank\">\n<img alt='Created in deepnote.com' style='display:inline;max-height:16px;margin:0px;margin-right:7.5px;' src='data:image/svg+xml;base64,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' > </img>\nCreated in <span style='font-weight:600;margin-left:4px;'>Deepnote</span></a>",
   "metadata": {
    "tags": [],
    "created_in_deepnote_cell": true,
    "deepnote_cell_type": "markdown"
   }
  }
 ],
 "nbformat": 4,
 "nbformat_minor": 2,
 "metadata": {
  "orig_nbformat": 2,
  "deepnote": {
   "is_reactive": false
  },
  "deepnote_notebook_id": "56aad5ae-37b2-4a4a-819d-43ae08a13d2d",
  "deepnote_execution_queue": []
 }
}